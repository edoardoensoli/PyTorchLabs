{
  "nbformat": 4,
  "nbformat_minor": 0,
  "metadata": {
    "colab": {
      "provenance": [],
      "collapsed_sections": [
        "i51GvUnwSc0U"
      ],
      "toc_visible": true,
      "include_colab_link": true
    },
    "kernelspec": {
      "name": "python3",
      "display_name": "Python 3"
    }
  },
  "cells": [
    {
      "cell_type": "markdown",
      "metadata": {
        "id": "view-in-github",
        "colab_type": "text"
      },
      "source": [
        "<a href=\"https://colab.research.google.com/github/edoardoensoli/PyTorchLabs/blob/main/01_Tensor_basics.ipynb\" target=\"_parent\"><img src=\"https://colab.research.google.com/assets/colab-badge.svg\" alt=\"Open In Colab\"/></a>"
      ]
    },
    {
      "cell_type": "markdown",
      "metadata": {
        "id": "AhTm-wTJNJEJ"
      },
      "source": [
        "# Deep Learning & Applied AI\n",
        "\n",
        "# Tutorial 1: Tensor manipulation\n",
        "\n",
        "In this tutorial, we will cover:\n",
        "\n",
        "- PyTorch Tensors: creation, gpu tensors, shape manipulation, indexing\n",
        "\n",
        "Prerequisites:\n",
        "\n",
        "- Python\n",
        "\n",
        "Authors:\n",
        "\n",
        "- Based on an original notebook by Dr. Antonio Norelli (norelli@di.uniroma1.it, now at Oxford University).\n",
        "\n",
        "Course:\n",
        "\n",
        "- Website and notebooks will be available at https://erodola.github.io/DLAI-s2-2024/\n",
        "\n"
      ]
    },
    {
      "cell_type": "markdown",
      "source": [
        "## Welcome to the Deep Learning and Applied AI lab sessions!\n",
        "During the lab sessions, you will be guided through one or more Python notebooks that teach you deep learning tools and provide opportunities to apply what you have learned in class.\n",
        "\n",
        "We encourage you to form small groups of 2-3 people to read and discuss the notebooks together.\n",
        "\n",
        "Run the code and play with it! It is very easy to edit the code locally and make small experiments. Try whatever comes to your mind, this is the best way to learn! Python notebooks are designed to be used in this way, that's why we chose them for the DLAI lab sessions.\n",
        "\n",
        "There will be some exercises, try to do them by yourself, and when everyone in your group has finished, compare the solutions with each other.\n",
        "\n",
        "When something is not clear or you have a question, raise your hand and we will come to you.\n",
        "\n",
        "Some sections in the notebooks are marked with 📖. This is deepening content for further reading outside of class. You may want to go through it at home or during class if you finish early. (Some sections are \"more optional\" than others, those are marked with more books 📖📖)\n",
        "\n",
        "Let's start!"
      ],
      "metadata": {
        "id": "PVQCoYhRizlI"
      }
    },
    {
      "cell_type": "markdown",
      "metadata": {
        "id": "MDJI_JVTPMRc"
      },
      "source": [
        "## Introduction\n",
        "\n",
        "Many Deep Learning frameworks have emerged for python. Arguably the most notable ones in 2024 are **PyTorch**, **TensorFlow** (with keras frontend) and **Jax**.\n",
        "We will use PyTorch, which is [the leading DL framework](https://thegradient.pub/state-of-ml-frameworks-2019-pytorch-dominates-research-tensorflow-dominates-industry/) for research and [continues to gain popularity](https://openai.com/blog/openai-pytorch/).\n",
        "\n",
        "The fundamental data structure of these frameworks is the **tensor**, which is more or less the same everywhere. _A solid understanding of how tensors work is required in deep learning_ and will definitely come in handy in other areas.\n",
        "\n",
        "The first two tutorials will give you solid basics of tensors and operations between tensors."
      ]
    },
    {
      "cell_type": "markdown",
      "metadata": {
        "id": "5fCEDCU_qrC0"
      },
      "source": [
        "## Wait, wait, wait... what is this strange web page with code and text cells all around?\n",
        "\n",
        "It is called Colab, an environment to play with python notebooks directly in your web browser, made by Google. If you never used Colab before, take a look to the following cells, adapted from the official [Colab guide](https://colab.research.google.com/notebooks/welcome.ipynb).\n",
        "\n"
      ]
    },
    {
      "cell_type": "markdown",
      "source": [
        "### Getting started with Colab\n",
        "\n",
        "Colab, or \"Colaboratory\", allows you to write and execute Python in your browser, with\n",
        "- Zero configuration required\n",
        "- Access to GPUs free of charge\n",
        "- Easy sharing"
      ],
      "metadata": {
        "id": "IYafT_OGiBAl"
      }
    },
    {
      "cell_type": "markdown",
      "metadata": {
        "id": "GJBs_flRovLc"
      },
      "source": [
        "The document you are reading is not a static web page, but an interactive environment called a **Colab notebook** that lets you write and execute code.\n",
        "\n",
        "For example, here is a **code cell** with a short Python script that computes a value, stores it in a variable, and prints the result:"
      ]
    },
    {
      "cell_type": "code",
      "execution_count": null,
      "metadata": {
        "id": "gJr_9dXGpJ05",
        "colab": {
          "base_uri": "https://localhost:8080/"
        },
        "outputId": "16e1692d-2394-4360-f474-412eaea5c5b6"
      },
      "outputs": [
        {
          "output_type": "execute_result",
          "data": {
            "text/plain": [
              "86400"
            ]
          },
          "metadata": {},
          "execution_count": 1
        }
      ],
      "source": [
        "seconds_in_a_day = 24 * 60 * 60\n",
        "seconds_in_a_day"
      ]
    },
    {
      "cell_type": "markdown",
      "metadata": {
        "id": "2fhs6GZ4qFMx"
      },
      "source": [
        "To execute the code in the above cell, select it with a click and then either press the play button to the left of the code, or use the keyboard shortcut \"Command/Ctrl+Enter\". To edit the code, just click the cell and start editing.\n",
        "\n",
        "Variables that you define in one cell can later be used in other cells:"
      ]
    },
    {
      "cell_type": "code",
      "execution_count": null,
      "metadata": {
        "id": "-gE-Ez1qtyIA",
        "colab": {
          "base_uri": "https://localhost:8080/"
        },
        "outputId": "f32c7c96-1fe0-43ad-b162-3b9036ec3cf6"
      },
      "outputs": [
        {
          "output_type": "execute_result",
          "data": {
            "text/plain": [
              "604800"
            ]
          },
          "metadata": {},
          "execution_count": 2
        }
      ],
      "source": [
        "seconds_in_a_week = 7 * seconds_in_a_day\n",
        "seconds_in_a_week"
      ]
    },
    {
      "cell_type": "markdown",
      "metadata": {
        "id": "lSrWNr3MuFUS"
      },
      "source": [
        "Colab notebooks allow you to combine **executable code** and **rich text** in a single document, along with **images**, **HTML**, **LaTeX** and more. When you create your own Colab notebooks, they are stored in your Google Drive account. You can easily share your Colab notebooks with co-workers or friends, allowing them to comment on your notebooks or even edit them. To learn more, see [Overview of Colab](/notebooks/basic_features_overview.ipynb). To create a new Colab notebook you can use the File menu above, or use the following link: [create a new Colab notebook](http://colab.research.google.com#create=true).\n",
        "\n",
        "Colab notebooks are Jupyter notebooks that are hosted by Colab. To learn more about the Jupyter project, see [jupyter.org](https://www.jupyter.org)."
      ]
    },
    {
      "cell_type": "markdown",
      "metadata": {
        "id": "_ptdrqwQQAi0"
      },
      "source": [
        "## Numpy\n",
        "\n",
        "The adoptive father of Python's deep learning frameworks is Numpy, the historical library which added support for large, multi-dimensional arrays and matrices to Python.\n",
        "\n",
        "As we will see, modern deep learning frameworks (and especially PyTorch) have drawn largely from Numpy's API, while at the same time overcoming its limitations such as the absence of GPU support or automatic differentiation. The student has become the master.\n",
        "\n",
        "![img](https://i.imgur.com/KaUdmee.png)\n",
        "\n",
        "We will mainly use PyTorch tensors for implementing our Deep Learning systems, but knowing how to use Numpy remains very important. Note that:\n",
        "\n",
        "- **Numpy arrays** and **PyTorch tensors** are very similar, most of the features that we will explain for PyTorch tensors apply also to Numpy arrays.\n",
        "- In real DL systems you need to constantly switch between PyTorch and Numpy.\n",
        "\n",
        "If you have prior knowledge of matrix manipulation in Matlab, we recommend the [numpy for Matlab users page](https://numpy.org/doc/stable/user/numpy-for-matlab-users.html) as a useful resource.\n",
        "\n",
        "\n"
      ]
    },
    {
      "cell_type": "code",
      "metadata": {
        "id": "eRzmry5qj8DD"
      },
      "source": [
        "import numpy as np"
      ],
      "execution_count": null,
      "outputs": []
    },
    {
      "cell_type": "markdown",
      "metadata": {
        "id": "xsfPgLP9S0gA"
      },
      "source": [
        "## PyTorch\n",
        "\n",
        "During the course we'll use and learn many parts of PyTorch API.\n",
        "You should also familiarize with the [PyTorch Documentation](https://pytorch.org/docs/stable/) as it will greatly assist you.\n",
        "\n",
        "\n"
      ]
    },
    {
      "cell_type": "code",
      "metadata": {
        "id": "SWHsmm2OTqZK",
        "colab": {
          "base_uri": "https://localhost:8080/",
          "height": 35
        },
        "outputId": "e3afc5a2-5ea2-4b38-9808-c1adbcff0281"
      },
      "source": [
        "import torch\n",
        "torch.__version__"
      ],
      "execution_count": null,
      "outputs": [
        {
          "output_type": "execute_result",
          "data": {
            "text/plain": [
              "'2.5.1+cu124'"
            ],
            "application/vnd.google.colaboratory.intrinsic+json": {
              "type": "string"
            }
          },
          "metadata": {},
          "execution_count": 4
        }
      ]
    },
    {
      "cell_type": "markdown",
      "metadata": {
        "id": "7odUeGK8TmVh"
      },
      "source": [
        "### **PyTorch Tensor**\n",
        "\n",
        "The ``Tensor`` class is very similar to numpy's ``ndarray`` and provides most of its functionality.\n",
        "\n",
        "\n",
        "However, it also has two important distinctions:\n",
        "\n",
        "- ``Tensor`` supports GPU computations.\n",
        "- ``Tensor`` may store extra information needed for back-propagation:\n",
        "  - The gradient tensor w.r.t. some variable (e.g. the loss)\n",
        "  - A node representing an operation in the computational graph that produced this tensor.\n",
        "\n",
        "We will study back-propagation in a future lecture.\n",
        "\n",
        "Keep in mind:\n",
        "\n",
        "- Usually **tensor operations are not in-place**."
      ]
    },
    {
      "cell_type": "markdown",
      "metadata": {
        "id": "dkkmkYGDXFFU"
      },
      "source": [
        "#### **Tensor instantiation**\n",
        "\n",
        "A tensor represents an n-dimensional grid of values, **all of the same type**."
      ]
    },
    {
      "cell_type": "code",
      "metadata": {
        "id": "F-i2-H7QU7DH",
        "colab": {
          "base_uri": "https://localhost:8080/"
        },
        "outputId": "f4b6af13-b464-41ed-aa56-9da07077f390"
      },
      "source": [
        "# Basic tensor creation from python lists\n",
        "torch.tensor([[1, 2, 3], [4, 5, 6]], dtype=torch.int32)"
      ],
      "execution_count": null,
      "outputs": [
        {
          "output_type": "execute_result",
          "data": {
            "text/plain": [
              "tensor([[1, 2, 3],\n",
              "        [4, 5, 6]], dtype=torch.int32)"
            ]
          },
          "metadata": {},
          "execution_count": 7
        }
      ]
    },
    {
      "cell_type": "code",
      "metadata": {
        "id": "5LNGnqk3VbkU",
        "colab": {
          "base_uri": "https://localhost:8080/"
        },
        "outputId": "99e729e8-96ca-48c6-da9b-caba33fa676b"
      },
      "source": [
        "# Some other tensor construction methods\n",
        "torch.zeros((3,5))"
      ],
      "execution_count": null,
      "outputs": [
        {
          "output_type": "execute_result",
          "data": {
            "text/plain": [
              "tensor([[0., 0., 0., 0., 0.],\n",
              "        [0., 0., 0., 0., 0.],\n",
              "        [0., 0., 0., 0., 0.]])"
            ]
          },
          "metadata": {},
          "execution_count": 8
        }
      ]
    },
    {
      "cell_type": "code",
      "metadata": {
        "id": "8et3bE93WLBR",
        "colab": {
          "base_uri": "https://localhost:8080/"
        },
        "outputId": "0c7f75d9-0b3b-4ff5-b9a2-405df5226c7e"
      },
      "source": [
        "torch.ones((2,5), dtype=torch.float64)"
      ],
      "execution_count": null,
      "outputs": [
        {
          "output_type": "execute_result",
          "data": {
            "text/plain": [
              "tensor([[1., 1., 1., 1., 1.],\n",
              "        [1., 1., 1., 1., 1.]], dtype=torch.float64)"
            ]
          },
          "metadata": {},
          "execution_count": 9
        }
      ]
    },
    {
      "cell_type": "code",
      "metadata": {
        "id": "v2Ehsm4WcML0",
        "colab": {
          "base_uri": "https://localhost:8080/"
        },
        "outputId": "fffcb5cd-0dd2-486e-90f4-9416b1c1c69b"
      },
      "source": [
        "torch.eye(4)"
      ],
      "execution_count": null,
      "outputs": [
        {
          "output_type": "execute_result",
          "data": {
            "text/plain": [
              "tensor([[1., 0., 0., 0.],\n",
              "        [0., 1., 0., 0.],\n",
              "        [0., 0., 1., 0.],\n",
              "        [0., 0., 0., 1.]])"
            ]
          },
          "metadata": {},
          "execution_count": 10
        }
      ]
    },
    {
      "cell_type": "code",
      "metadata": {
        "id": "jokiBKanWFIE",
        "colab": {
          "base_uri": "https://localhost:8080/"
        },
        "outputId": "cf49e8bc-6a56-4656-8c88-82d570dee3c8"
      },
      "source": [
        "torch.rand((2,2))  # from which distribution are these random numbers sampled? Check the PyTorch documentation"
      ],
      "execution_count": null,
      "outputs": [
        {
          "output_type": "execute_result",
          "data": {
            "text/plain": [
              "tensor([[0.1753, 0.4416],\n",
              "        [0.8829, 0.8481]])"
            ]
          },
          "metadata": {},
          "execution_count": 11
        }
      ]
    },
    {
      "cell_type": "markdown",
      "source": [
        "**Pro tip**: Bookmark the [PyTorch docs](https://pytorch.org/docs/stable/)."
      ],
      "metadata": {
        "id": "hLz-HYi5rd5-"
      }
    },
    {
      "cell_type": "code",
      "metadata": {
        "id": "DHV8h3LVWRaI",
        "colab": {
          "base_uri": "https://localhost:8080/"
        },
        "outputId": "796edfc0-063c-43fc-b16f-719a7fed2c0d"
      },
      "source": [
        "torch.randint(0, 100, (3,3))"
      ],
      "execution_count": null,
      "outputs": [
        {
          "output_type": "execute_result",
          "data": {
            "text/plain": [
              "tensor([[30, 87,  6],\n",
              "        [15, 79, 60],\n",
              "        [46, 71, 37]])"
            ]
          },
          "metadata": {},
          "execution_count": 15
        }
      ]
    },
    {
      "cell_type": "code",
      "metadata": {
        "id": "zsf9dn4CWl2V",
        "colab": {
          "base_uri": "https://localhost:8080/"
        },
        "outputId": "f982f830-a3f6-46b1-864c-0dd732503332"
      },
      "source": [
        "t = torch.rand((3, 3))\n",
        "torch.ones_like(t)\n",
        "#torch.zeros_like(t)"
      ],
      "execution_count": null,
      "outputs": [
        {
          "output_type": "execute_result",
          "data": {
            "text/plain": [
              "tensor([[1., 1., 1.],\n",
              "        [1., 1., 1.],\n",
              "        [1., 1., 1.]])"
            ]
          },
          "metadata": {},
          "execution_count": 22
        }
      ]
    },
    {
      "cell_type": "markdown",
      "metadata": {
        "id": "KiRfQEztdwqE"
      },
      "source": [
        "One can easily convert to/from Numpy tensors:"
      ]
    },
    {
      "cell_type": "code",
      "metadata": {
        "id": "aI5VsGZJd2rV",
        "colab": {
          "base_uri": "https://localhost:8080/"
        },
        "outputId": "879ce722-da8a-4720-c350-a47d3e61fff1"
      },
      "source": [
        "t = torch.rand((3, 3), dtype=torch.float32)\n",
        "t.numpy()"
      ],
      "execution_count": null,
      "outputs": [
        {
          "output_type": "execute_result",
          "data": {
            "text/plain": [
              "array([[0.5359843 , 0.5526942 , 0.1680417 ],\n",
              "       [0.8880686 , 0.8336192 , 0.02665251],\n",
              "       [0.95251566, 0.26625156, 0.99503803]], dtype=float32)"
            ]
          },
          "metadata": {},
          "execution_count": 23
        }
      ]
    },
    {
      "cell_type": "code",
      "metadata": {
        "id": "Wt4Uy9Bbd81h",
        "colab": {
          "base_uri": "https://localhost:8080/"
        },
        "outputId": "4b3d46f1-0c97-458a-c542-5c37c3e55660"
      },
      "source": [
        "n = np.random.rand(3,3).astype(np.float16)\n",
        "torch.from_numpy(n)"
      ],
      "execution_count": null,
      "outputs": [
        {
          "output_type": "execute_result",
          "data": {
            "text/plain": [
              "tensor([[0.0865, 0.0746, 0.2917],\n",
              "        [0.8154, 0.9111, 0.2673],\n",
              "        [0.9639, 0.3223, 0.5640]], dtype=torch.float16)"
            ]
          },
          "metadata": {},
          "execution_count": 24
        }
      ]
    },
    {
      "cell_type": "markdown",
      "metadata": {
        "id": "6FYkcuhs84Sp"
      },
      "source": [
        "There are many other functions available to create tensors!"
      ]
    },
    {
      "cell_type": "markdown",
      "metadata": {
        "id": "RPEmhFYd5TK-"
      },
      "source": [
        "> **EXERCISE**\n",
        ">\n",
        "> Create a matrix $M \\in \\mathbb{R}^{3 \\times 3}$ that is filled with 2 along the diagonal and 1 elsewhere, that is:\n",
        ">\n",
        "> $$\n",
        "m_{ij} =\n",
        "\\begin{cases}\n",
        "2 & \\text{if } i = j \\\\\n",
        "1 & \\text{otherwise}\n",
        "\\end{cases}\n",
        "$$"
      ]
    },
    {
      "cell_type": "code",
      "source": [
        "# 📝 write your solution in this cell\n",
        "torch.ones((3,3)) + torch.eye(3)"
      ],
      "metadata": {
        "id": "pAnntNcu9otu",
        "colab": {
          "base_uri": "https://localhost:8080/"
        },
        "outputId": "e3a30ac9-6c2f-4a6a-c694-d5507656d39c"
      },
      "execution_count": null,
      "outputs": [
        {
          "output_type": "execute_result",
          "data": {
            "text/plain": [
              "tensor([[2., 1., 1.],\n",
              "        [1., 2., 1.],\n",
              "        [1., 1., 2.]])"
            ]
          },
          "metadata": {},
          "execution_count": 26
        }
      ]
    },
    {
      "cell_type": "code",
      "metadata": {
        "id": "A2tjmfWbYk9P",
        "cellView": "form"
      },
      "source": [
        "# @title 👀 Solution\n",
        "\n",
        "\n",
        "torch.ones((3,3)) + torch.eye(3)"
      ],
      "execution_count": null,
      "outputs": []
    },
    {
      "cell_type": "markdown",
      "metadata": {
        "id": "_c7X85hbWs0c"
      },
      "source": [
        "#### **Tensor properties**"
      ]
    },
    {
      "cell_type": "markdown",
      "metadata": {
        "id": "1XCHWcMlbhH0"
      },
      "source": [
        "The **type** of a tensor is the type of each element contained in the tensor:"
      ]
    },
    {
      "cell_type": "code",
      "metadata": {
        "id": "XP4CyRTmXYpd",
        "colab": {
          "base_uri": "https://localhost:8080/"
        },
        "outputId": "a8c387aa-8bb6-4ce0-df84-bcf0af3a3cc4"
      },
      "source": [
        "t = torch.rand((3, 3))\n",
        "t.dtype"
      ],
      "execution_count": null,
      "outputs": [
        {
          "output_type": "execute_result",
          "data": {
            "text/plain": [
              "torch.float32"
            ]
          },
          "metadata": {},
          "execution_count": 31
        }
      ]
    },
    {
      "cell_type": "markdown",
      "metadata": {
        "id": "TBoZHIlybZUV"
      },
      "source": [
        "\n",
        "The **shape** of a tensor is a tuple of integers giving the size of the tensor along each dimension, e.g. for a matrix $M \\in \\mathbb{R}^{3 \\times 5}$:"
      ]
    },
    {
      "cell_type": "code",
      "metadata": {
        "id": "PjuSpqbvXbqs",
        "colab": {
          "base_uri": "https://localhost:8080/"
        },
        "outputId": "ebaddeff-f69b-48a0-bc50-6bd2cc544fe9"
      },
      "source": [
        "t = torch.rand((3,5))\n",
        "t.shape\n",
        "#t.shape[0] returns 3"
      ],
      "execution_count": null,
      "outputs": [
        {
          "output_type": "execute_result",
          "data": {
            "text/plain": [
              "torch.Size([3, 5])"
            ]
          },
          "metadata": {},
          "execution_count": 34
        }
      ]
    },
    {
      "cell_type": "markdown",
      "metadata": {
        "id": "UFhAblNmbswv"
      },
      "source": [
        "The **device** of a tensor indicates the memory in which the tensor is currently stored: RAM (denoted as ``cpu``) or GPU memory (denoted as ``cuda``)"
      ]
    },
    {
      "cell_type": "code",
      "metadata": {
        "id": "_4okES1zXcy2",
        "colab": {
          "base_uri": "https://localhost:8080/"
        },
        "outputId": "2561fa8c-a184-4a17-ed73-8fd11b92ef2c"
      },
      "source": [
        "t = torch.rand((3,5))\n",
        "t.device"
      ],
      "execution_count": null,
      "outputs": [
        {
          "output_type": "execute_result",
          "data": {
            "text/plain": [
              "device(type='cpu')"
            ]
          },
          "metadata": {},
          "execution_count": 35
        }
      ]
    },
    {
      "cell_type": "markdown",
      "metadata": {
        "id": "UM0UCkZ49DPk"
      },
      "source": [
        "> **EXERCISE**\n",
        ">\n",
        "> Given a matrix $X \\in \\mathbb{R}^{m \\times n}$, create another matrix $Y \\in \\mathbb{R}^{m \\times 3}$ filled with ones using $X$."
      ]
    },
    {
      "cell_type": "code",
      "metadata": {
        "id": "_GJinHgLzs11",
        "colab": {
          "base_uri": "https://localhost:8080/"
        },
        "outputId": "f2efff1a-73c0-44f0-8261-895188a36752"
      },
      "source": [
        "# Exercise variables\n",
        "X = torch.rand(100,42)\n",
        "\n",
        "# Your solution:\n",
        "Y = torch.ones((X.shape[0], 3))\n",
        "Y.shape"
      ],
      "execution_count": null,
      "outputs": [
        {
          "output_type": "execute_result",
          "data": {
            "text/plain": [
              "torch.Size([100, 3])"
            ]
          },
          "metadata": {},
          "execution_count": 38
        }
      ]
    },
    {
      "cell_type": "code",
      "source": [
        "# @title 👀 Solution\n",
        "\n",
        "\n",
        "torch.ones((X.shape[0], 3))"
      ],
      "metadata": {
        "id": "A_UxL8zE-n8z"
      },
      "execution_count": null,
      "outputs": []
    },
    {
      "cell_type": "markdown",
      "metadata": {
        "id": "_8Wa3JFCXd7J"
      },
      "source": [
        "#### **Using the GPU**\n",
        "\n",
        "Thanks to the explosion of the videogame industry in the last 50 years, the performance of the chips specialized in rendering and processing graphics --known as GPUs-- has dramatically improved.\n",
        "\n",
        "In 2007 NVidia realized the potential of parallel GPU computing outside the videogame world, and released the first version of the CUDA framework, allowing  software developers to use GPUs for general purpose processing.\n",
        "\n",
        "Graphics operations are mostly linear algebra operations, and accelerating them can turn very useful in many other fields.\n",
        "\n",
        "In 2012 Hinton et al. [demonstrated](https://en.wikipedia.org/wiki/AlexNet) the huge potential of GPUs in training deep neural networks, starting *de facto* the glorious days of deep learning."
      ]
    },
    {
      "cell_type": "code",
      "metadata": {
        "id": "bgZST3s_CaLm"
      },
      "source": [
        "# @title GPUs are very powerful\n",
        "\n",
        "from IPython.display import YouTubeVideo, HTML, display\n",
        "\n",
        "display(YouTubeVideo('-P28LKWTzrI?t=14'))"
      ],
      "execution_count": null,
      "outputs": []
    },
    {
      "cell_type": "code",
      "metadata": {
        "id": "gbIogawQYBvW",
        "colab": {
          "base_uri": "https://localhost:8080/"
        },
        "outputId": "5abb7339-a1d6-4add-ee8a-e144ac51ce52"
      },
      "source": [
        "# Check if the GPU is available\n",
        "torch.cuda.is_available()"
      ],
      "execution_count": null,
      "outputs": [
        {
          "output_type": "execute_result",
          "data": {
            "text/plain": [
              "True"
            ]
          },
          "metadata": {},
          "execution_count": 40
        }
      ]
    },
    {
      "cell_type": "code",
      "metadata": {
        "id": "TVYbgoigX_PL",
        "colab": {
          "base_uri": "https://localhost:8080/"
        },
        "outputId": "3df56888-b844-4cc0-cd85-79b12a60605e"
      },
      "source": [
        "# If available use the GPU\n",
        "device = torch.device('cuda' if torch.cuda.is_available() else 'cpu')\n",
        "device"
      ],
      "execution_count": null,
      "outputs": [
        {
          "output_type": "execute_result",
          "data": {
            "text/plain": [
              "device(type='cuda')"
            ]
          },
          "metadata": {},
          "execution_count": 41
        }
      ]
    },
    {
      "cell_type": "code",
      "metadata": {
        "id": "yhHVeolzWZQn",
        "colab": {
          "base_uri": "https://localhost:8080/"
        },
        "outputId": "6c2c0fe3-d46b-42cc-b906-0e45c046fbfc"
      },
      "source": [
        "t = torch.rand((3,3))\n",
        "t = t.to(device)  # Note that we are assigning back to t, otherwise t won't be updated!\n",
        "t"
      ],
      "execution_count": null,
      "outputs": [
        {
          "output_type": "execute_result",
          "data": {
            "text/plain": [
              "tensor([[0.1710, 0.7803, 0.1939],\n",
              "        [0.6970, 0.0648, 0.8802],\n",
              "        [0.9185, 0.8129, 0.6598]], device='cuda:0')"
            ]
          },
          "metadata": {},
          "execution_count": 42
        }
      ]
    },
    {
      "cell_type": "code",
      "metadata": {
        "id": "Al_WAx4RWDy2",
        "colab": {
          "base_uri": "https://localhost:8080/"
        },
        "outputId": "6be95bfc-e91f-4b7c-8f7b-71b43555dbdb"
      },
      "source": [
        "# Construct tensors directly on the GPU memory\n",
        "t = torch.ones((5, 5), device='cuda')\n",
        "t"
      ],
      "execution_count": null,
      "outputs": [
        {
          "output_type": "execute_result",
          "data": {
            "text/plain": [
              "tensor([[1., 1., 1., 1., 1.],\n",
              "        [1., 1., 1., 1., 1.],\n",
              "        [1., 1., 1., 1., 1.],\n",
              "        [1., 1., 1., 1., 1.],\n",
              "        [1., 1., 1., 1., 1.]], device='cuda:0')"
            ]
          },
          "metadata": {},
          "execution_count": 43
        }
      ]
    },
    {
      "cell_type": "code",
      "metadata": {
        "id": "nuynABfrVZmD",
        "colab": {
          "base_uri": "https://localhost:8080/"
        },
        "outputId": "a15c56f7-a4f9-4e97-c449-d416e46a3089"
      },
      "source": [
        "t = torch.rand((3,3))\n",
        "\n",
        "# Other shortcuts to transfer tensors between devices\n",
        "\n",
        "# Be careful of hardcoded cuda calls: the code will not run if a GPU is not available\n",
        "t = t.cuda()\n",
        "t"
      ],
      "execution_count": null,
      "outputs": [
        {
          "output_type": "execute_result",
          "data": {
            "text/plain": [
              "tensor([[0.0607, 0.8741, 0.0787],\n",
              "        [0.7557, 0.3469, 0.4092],\n",
              "        [0.8861, 0.4348, 0.9879]], device='cuda:0')"
            ]
          },
          "metadata": {},
          "execution_count": 44
        }
      ]
    },
    {
      "cell_type": "code",
      "metadata": {
        "id": "JkOX8icwVXPK",
        "colab": {
          "base_uri": "https://localhost:8080/"
        },
        "outputId": "079bdee5-3193-41bc-dab2-7551789b0dc8"
      },
      "source": [
        "t = t.cpu()\n",
        "t"
      ],
      "execution_count": null,
      "outputs": [
        {
          "output_type": "execute_result",
          "data": {
            "text/plain": [
              "tensor([[0.0607, 0.8741, 0.0787],\n",
              "        [0.7557, 0.3469, 0.4092],\n",
              "        [0.8861, 0.4348, 0.9879]])"
            ]
          },
          "metadata": {},
          "execution_count": 45
        }
      ]
    },
    {
      "cell_type": "code",
      "metadata": {
        "id": "mj0gWQ-FgsZ2",
        "colab": {
          "base_uri": "https://localhost:8080/"
        },
        "outputId": "ca4b9290-762d-47c2-9929-58784d49a4d8"
      },
      "source": [
        "# Utility function to print tensors nicely. We will use this all the time.\n",
        "\n",
        "from typing import Union, Sequence\n",
        "\n",
        "def print_arr(\n",
        "    *arr: Sequence[Union[torch.Tensor, np.ndarray]], prefix: str = \"\"\n",
        ") -> None:\n",
        "    \"\"\"\n",
        "    Pretty print tensors, together with their shape and type\n",
        "\n",
        "    :param arr: one or more tensors\n",
        "    :param prefix: prefix to use when printing the tensors\n",
        "    \"\"\"\n",
        "    print(\n",
        "        \"\\n\\n\".join(\n",
        "            f\"{prefix}{str(x)} <shape: {x.shape}> <dtype: {x.dtype}>\" for x in arr\n",
        "        )\n",
        "    )\n",
        "\n",
        "t = torch.rand((3,3), dtype=torch.float32)\n",
        "print_arr(t, prefix='My tensor = ')"
      ],
      "execution_count": null,
      "outputs": [
        {
          "output_type": "stream",
          "name": "stdout",
          "text": [
            "My tensor = tensor([[0.0170, 0.1932, 0.3210],\n",
            "        [0.1914, 0.1453, 0.9416],\n",
            "        [0.6278, 0.3733, 0.4178]]) <shape: torch.Size([3, 3])> <dtype: torch.float32>\n"
          ]
        }
      ]
    },
    {
      "cell_type": "markdown",
      "metadata": {
        "id": "1g8l8j4deyZ2"
      },
      "source": [
        "#### 📖 **Tensor rank**\n",
        "\n",
        "In Numpy and PyTorch, the **rank of a tensor** denotes the number of dimensions. For example, any matrix is a tensor of rank 2.\n",
        "\n",
        "Don't confuse this with the rank of a matrix, which has a completely different meaning in linear algebra!"
      ]
    },
    {
      "cell_type": "markdown",
      "metadata": {
        "id": "pF8r6t6VTbrf"
      },
      "source": [
        "- **rank-0** tensors are just scalars"
      ]
    },
    {
      "cell_type": "code",
      "metadata": {
        "id": "lfSjfJ7bTHlZ",
        "colab": {
          "base_uri": "https://localhost:8080/"
        },
        "outputId": "c937bb15-95df-47e1-b60a-4d52cebde7cf"
      },
      "source": [
        "t0 = torch.tensor(3, dtype=torch.double)\n",
        "t = torch.tensor([[1,2], [3,4]])\n",
        "\n",
        "print_arr(t0)  # notice torch.Size in the printed output\n",
        "t[0][0] = 0\n",
        "t\n"
      ],
      "execution_count": null,
      "outputs": [
        {
          "output_type": "stream",
          "name": "stdout",
          "text": [
            "tensor(3., dtype=torch.float64) <shape: torch.Size([])> <dtype: torch.float64>\n"
          ]
        },
        {
          "output_type": "execute_result",
          "data": {
            "text/plain": [
              "tensor([[0, 2],\n",
              "        [3, 4]])"
            ]
          },
          "metadata": {},
          "execution_count": 59
        }
      ]
    },
    {
      "cell_type": "code",
      "metadata": {
        "id": "4O2GLaL0SxHn",
        "colab": {
          "base_uri": "https://localhost:8080/"
        },
        "outputId": "80f35a04-47cd-4c4e-effa-d86e7f2659ab"
      },
      "source": [
        "item = t0.item()  # convert the tensor scalar to a python base type\n",
        "item, type(item)"
      ],
      "execution_count": null,
      "outputs": [
        {
          "output_type": "execute_result",
          "data": {
            "text/plain": [
              "(3.0, float)"
            ]
          },
          "metadata": {},
          "execution_count": 62
        }
      ]
    },
    {
      "cell_type": "code",
      "metadata": {
        "id": "aPcQfgGbaEqv",
        "colab": {
          "base_uri": "https://localhost:8080/"
        },
        "outputId": "b4793c76-424a-4d0a-a440-8eda67796de5"
      },
      "source": [
        "# Be careful, a non-scalar tensor cannot be converted with an .item() call\n",
        "try:\n",
        "  x = torch.ones(3).item()\n",
        "except RuntimeError as e:\n",
        "  print('Error:', e)"
      ],
      "execution_count": null,
      "outputs": [
        {
          "output_type": "stream",
          "name": "stdout",
          "text": [
            "Error: a Tensor with 3 elements cannot be converted to Scalar\n"
          ]
        }
      ]
    },
    {
      "cell_type": "markdown",
      "metadata": {
        "id": "El2afq3-Sujl"
      },
      "source": [
        "- **rank-1** tensors are sequences of numbers. A sequence of length ``n`` has the shape ``(n,)``"
      ]
    },
    {
      "cell_type": "code",
      "metadata": {
        "id": "Twmbub4VSrvt",
        "colab": {
          "base_uri": "https://localhost:8080/"
        },
        "outputId": "d31401f3-be1a-439f-910c-6eaa0c130a46"
      },
      "source": [
        "# A rank-1 tensor\n",
        "t1 = torch.tensor([1, 2, 3])\n",
        "\n",
        "print_arr(t1)"
      ],
      "execution_count": null,
      "outputs": [
        {
          "output_type": "stream",
          "name": "stdout",
          "text": [
            "tensor([1, 2, 3]) <shape: torch.Size([3])> <dtype: torch.int64>\n"
          ]
        }
      ]
    },
    {
      "cell_type": "code",
      "metadata": {
        "id": "3LA-5C4kSHXv",
        "colab": {
          "base_uri": "https://localhost:8080/"
        },
        "outputId": "fccf17f5-4ae4-40ce-9242-025ece4bb050"
      },
      "source": [
        "# A rank-1 tensor with a single scalar\n",
        "print_arr(torch.tensor([42]))"
      ],
      "execution_count": null,
      "outputs": [
        {
          "output_type": "stream",
          "name": "stdout",
          "text": [
            "tensor([42]) <shape: torch.Size([1])> <dtype: torch.int64>\n"
          ]
        }
      ]
    },
    {
      "cell_type": "markdown",
      "source": [
        "PyTorch and NumPy are smart: if a tensor is not rank-0 but can be converted to a rank-0 tensor, then the .item() will work.\n",
        "\n",
        "This operation is called **broadcasting**, we will see it in detail in the next notebooks."
      ],
      "metadata": {
        "id": "PEGUO2rcxtwi"
      }
    },
    {
      "cell_type": "code",
      "metadata": {
        "id": "7xuBu8bKcbgl",
        "colab": {
          "base_uri": "https://localhost:8080/"
        },
        "outputId": "acb42ca1-cd03-4fe8-942f-9b686fa78e00"
      },
      "source": [
        "# A rank-1 tensor with a single element can be converted to a rank-0 tensor\n",
        "torch.tensor([42]).item()"
      ],
      "execution_count": null,
      "outputs": [
        {
          "output_type": "execute_result",
          "data": {
            "text/plain": [
              "42"
            ]
          },
          "metadata": {},
          "execution_count": 67
        }
      ]
    },
    {
      "cell_type": "markdown",
      "source": [
        "> **NOTE**\n",
        ">\n",
        "> Don't be too hopeful about mapping Pytorch concepts onto mathematical concepts.\n",
        ">\n",
        "> There isn’t a distinction in Pytorch between row vectors and column vectors: both are just rank-1 tensors!"
      ],
      "metadata": {
        "id": "gU-LyxtryotQ"
      }
    },
    {
      "cell_type": "markdown",
      "metadata": {
        "id": "Lj0NVuY3Rzp0"
      },
      "source": [
        "- **rank-2** tensors have the shape ``(n, m)``"
      ]
    },
    {
      "cell_type": "code",
      "metadata": {
        "id": "wui6OfMFPdnM",
        "colab": {
          "base_uri": "https://localhost:8080/"
        },
        "outputId": "5323409d-9132-4d64-b894-2b67a5fdc46a"
      },
      "source": [
        "t2 = torch.tensor([[1, 2, 3], [4, 5, 6]])\n",
        "\n",
        "print_arr(t2)"
      ],
      "execution_count": null,
      "outputs": [
        {
          "output_type": "stream",
          "name": "stdout",
          "text": [
            "tensor([[1, 2, 3],\n",
            "        [4, 5, 6]]) <shape: torch.Size([2, 3])> <dtype: torch.int64>\n"
          ]
        }
      ]
    },
    {
      "cell_type": "markdown",
      "source": [
        "Again, it doesn't make sense to talk about the \"rows\" and \"columns\" of rank-2 tensors."
      ],
      "metadata": {
        "id": "Z_W9Pi50zMD-"
      }
    },
    {
      "cell_type": "code",
      "source": [
        "# element (i,j) of a rank-2 tensor just means the j-th element of the i-th rank-1 tensor\n",
        "t2[1, 2].item()"
      ],
      "metadata": {
        "id": "o6dSV3eWzvm-",
        "colab": {
          "base_uri": "https://localhost:8080/"
        },
        "outputId": "74af0ca6-34bf-4295-fb86-40fae9eee867"
      },
      "execution_count": null,
      "outputs": [
        {
          "output_type": "execute_result",
          "data": {
            "text/plain": [
              "6"
            ]
          },
          "metadata": {},
          "execution_count": 69
        }
      ]
    },
    {
      "cell_type": "code",
      "metadata": {
        "id": "_hBNed-yOmmQ",
        "colab": {
          "base_uri": "https://localhost:8080/"
        },
        "outputId": "5509582d-1c6f-48b3-c07a-d4bac19fee45"
      },
      "source": [
        "# To mimick the notion of a column vector from linear algebra, we can use a rank-2 tensor\n",
        "t_col = t1.reshape(-1, 1)\n",
        "\n",
        "print_arr(t_col)"
      ],
      "execution_count": null,
      "outputs": [
        {
          "output_type": "stream",
          "name": "stdout",
          "text": [
            "tensor([[1],\n",
            "        [2],\n",
            "        [3]]) <shape: torch.Size([3, 1])> <dtype: torch.int64>\n"
          ]
        }
      ]
    },
    {
      "cell_type": "code",
      "metadata": {
        "id": "Qad_RigUjEtA",
        "colab": {
          "base_uri": "https://localhost:8080/"
        },
        "outputId": "5c633ac3-053c-4dae-a54a-3f29c61cd154"
      },
      "source": [
        "# ...and similarly for row vectors\n",
        "t_row = t1.reshape(1, -1)\n",
        "\n",
        "print_arr(t_row)"
      ],
      "execution_count": null,
      "outputs": [
        {
          "output_type": "stream",
          "name": "stdout",
          "text": [
            "tensor([[1, 2, 3]]) <shape: torch.Size([1, 3])> <dtype: torch.int64>\n"
          ]
        }
      ]
    },
    {
      "cell_type": "code",
      "source": [
        "# This way, we the standard matrix product will work only if the dimensions match\n",
        "\n",
        "t = torch.ones(10)  # rank-1 tensor\n",
        "\n",
        "t_row = t.reshape(1, -1)  # rank-2 'row vector'\n",
        "t_col = t.reshape(-1, 1)  # rank-2 'column vector'\n",
        "\n",
        "_ = t_row @ torch.ones(10, 3)  # does not work with t_col\n",
        "_ = torch.ones(3, 10) @ t_col  # does not work with t_row\n",
        "\n",
        "# Notice that the matrix product still does the right thing if we multiply by the rank-1 tensor\n",
        "\n",
        "_ = t @ torch.ones(10, 3)\n",
        "_ = torch.ones(3, 10) @ t"
      ],
      "metadata": {
        "id": "sOdxEQFwBpgy"
      },
      "execution_count": null,
      "outputs": []
    },
    {
      "cell_type": "markdown",
      "metadata": {
        "id": "BeGPcSYMOlv0"
      },
      "source": [
        "- **rank-k** tensors have a shape of $(n_1, \\dots, n_k)$"
      ]
    },
    {
      "cell_type": "code",
      "metadata": {
        "id": "hg5bbeCIjuL_",
        "colab": {
          "base_uri": "https://localhost:8080/"
        },
        "outputId": "70245897-da62-47bb-fa10-40d77f7bd876"
      },
      "source": [
        "print_arr(torch.zeros((2, 3, 4)))"
      ],
      "execution_count": null,
      "outputs": [
        {
          "output_type": "stream",
          "name": "stdout",
          "text": [
            "tensor([[[0., 0., 0., 0.],\n",
            "         [0., 0., 0., 0.],\n",
            "         [0., 0., 0., 0.]],\n",
            "\n",
            "        [[0., 0., 0., 0.],\n",
            "         [0., 0., 0., 0.],\n",
            "         [0., 0., 0., 0.]]]) <shape: torch.Size([2, 3, 4])> <dtype: torch.float32>\n"
          ]
        }
      ]
    },
    {
      "cell_type": "code",
      "metadata": {
        "id": "3O68PwBGOjpe",
        "colab": {
          "base_uri": "https://localhost:8080/"
        },
        "outputId": "7d8f3ef9-e326-4d70-edf8-9742d43f25d9"
      },
      "source": [
        "print_arr(torch.ones((2, 2, 2, 2)))"
      ],
      "execution_count": null,
      "outputs": [
        {
          "output_type": "stream",
          "name": "stdout",
          "text": [
            "tensor([[[[1., 1.],\n",
            "          [1., 1.]],\n",
            "\n",
            "         [[1., 1.],\n",
            "          [1., 1.]]],\n",
            "\n",
            "\n",
            "        [[[1., 1.],\n",
            "          [1., 1.]],\n",
            "\n",
            "         [[1., 1.],\n",
            "          [1., 1.]]]]) <shape: torch.Size([2, 2, 2, 2])> <dtype: torch.float32>\n"
          ]
        }
      ]
    },
    {
      "cell_type": "markdown",
      "metadata": {
        "id": "xkugOzEKi3wk"
      },
      "source": [
        "> **EXERCISE**\n",
        ">\n",
        "> Build a tensor $X \\in \\mathbb{R}^{k \\times k}$ filled with zeros and the sequence $[0, ..., k-1]$ along the diagonal"
      ]
    },
    {
      "cell_type": "code",
      "metadata": {
        "id": "v_8mTH8pdzHz",
        "colab": {
          "base_uri": "https://localhost:8080/"
        },
        "outputId": "0aedb5bd-6074-43df-8f06-997f155a8d12"
      },
      "source": [
        "# your solution\n",
        "k = 12\n",
        "\n",
        "x = torch.eye(k) * torch.arange(k)\n",
        "x\n",
        "y = torch.diag(torch.arange(k))\n",
        "y"
      ],
      "execution_count": null,
      "outputs": [
        {
          "output_type": "execute_result",
          "data": {
            "text/plain": [
              "tensor([[ 0,  0,  0,  0,  0,  0,  0,  0,  0,  0,  0,  0],\n",
              "        [ 0,  1,  0,  0,  0,  0,  0,  0,  0,  0,  0,  0],\n",
              "        [ 0,  0,  2,  0,  0,  0,  0,  0,  0,  0,  0,  0],\n",
              "        [ 0,  0,  0,  3,  0,  0,  0,  0,  0,  0,  0,  0],\n",
              "        [ 0,  0,  0,  0,  4,  0,  0,  0,  0,  0,  0,  0],\n",
              "        [ 0,  0,  0,  0,  0,  5,  0,  0,  0,  0,  0,  0],\n",
              "        [ 0,  0,  0,  0,  0,  0,  6,  0,  0,  0,  0,  0],\n",
              "        [ 0,  0,  0,  0,  0,  0,  0,  7,  0,  0,  0,  0],\n",
              "        [ 0,  0,  0,  0,  0,  0,  0,  0,  8,  0,  0,  0],\n",
              "        [ 0,  0,  0,  0,  0,  0,  0,  0,  0,  9,  0,  0],\n",
              "        [ 0,  0,  0,  0,  0,  0,  0,  0,  0,  0, 10,  0],\n",
              "        [ 0,  0,  0,  0,  0,  0,  0,  0,  0,  0,  0, 11]])"
            ]
          },
          "metadata": {},
          "execution_count": 115
        }
      ]
    },
    {
      "cell_type": "code",
      "source": [
        "# @title 👀 Solution\n",
        "\n",
        "\n",
        "k = 12\n",
        "X = torch.diag(torch.arange(k))\n",
        "print_arr(X)"
      ],
      "metadata": {
        "id": "38L1P8aCCXed",
        "colab": {
          "base_uri": "https://localhost:8080/"
        },
        "outputId": "31391e1d-13a4-4a9b-caec-787492732f96"
      },
      "execution_count": null,
      "outputs": [
        {
          "output_type": "stream",
          "name": "stdout",
          "text": [
            "tensor([[ 0,  0,  0,  0,  0,  0,  0,  0,  0,  0,  0,  0],\n",
            "        [ 0,  1,  0,  0,  0,  0,  0,  0,  0,  0,  0,  0],\n",
            "        [ 0,  0,  2,  0,  0,  0,  0,  0,  0,  0,  0,  0],\n",
            "        [ 0,  0,  0,  3,  0,  0,  0,  0,  0,  0,  0,  0],\n",
            "        [ 0,  0,  0,  0,  4,  0,  0,  0,  0,  0,  0,  0],\n",
            "        [ 0,  0,  0,  0,  0,  5,  0,  0,  0,  0,  0,  0],\n",
            "        [ 0,  0,  0,  0,  0,  0,  6,  0,  0,  0,  0,  0],\n",
            "        [ 0,  0,  0,  0,  0,  0,  0,  7,  0,  0,  0,  0],\n",
            "        [ 0,  0,  0,  0,  0,  0,  0,  0,  8,  0,  0,  0],\n",
            "        [ 0,  0,  0,  0,  0,  0,  0,  0,  0,  9,  0,  0],\n",
            "        [ 0,  0,  0,  0,  0,  0,  0,  0,  0,  0, 10,  0],\n",
            "        [ 0,  0,  0,  0,  0,  0,  0,  0,  0,  0,  0, 11]]) <shape: torch.Size([12, 12])> <dtype: torch.int64>\n"
          ]
        }
      ]
    },
    {
      "cell_type": "markdown",
      "metadata": {
        "id": "8Dixdu5yjZ0g"
      },
      "source": [
        "> **EXERCISE**\n",
        ">\n",
        "> What is the shape of the following tensor?\n",
        ">\n",
        "> ```python\n",
        "> torch.tensor(\n",
        ">     [\n",
        ">         [[1.0, 1.0, 1.0],\n",
        ">          [1.0, 1.0, 1.0]],\n",
        ">\n",
        ">         [[1.0, 1.0, 1.0],\n",
        ">          [1.0, 1.0, 1.0]],\n",
        ">\n",
        ">         [[1.0, 1.0, 1.0],\n",
        ">          [1.0, 1.0, 1.0]],\n",
        ">\n",
        ">         [[1.0, 1.0, 1.0],\n",
        ">          [1.0, 1.0, 1.0]],\n",
        ">     ]\n",
        "> )\n",
        "> ```\n",
        "\n"
      ]
    },
    {
      "cell_type": "code",
      "metadata": {
        "id": "PXIhMoIO1DJA",
        "colab": {
          "base_uri": "https://localhost:8080/"
        },
        "outputId": "cc8d6a7b-e8f0-415f-ceaa-bcb63c75f2d0"
      },
      "source": [
        "# Think about it, then confirm your answer by writing code here\n",
        "# 4 2 3\n",
        "x = torch.tensor([\n",
        "        [[1.0, 1.0, 1.0],\n",
        "         [1.0, 1.0, 1.0]],\n",
        "\n",
        "        [[1.0, 1.0, 1.0],\n",
        "         [1.0, 1.0, 1.0]],\n",
        "\n",
        "        [[1.0, 1.0, 1.0],\n",
        "         [1.0, 1.0, 1.0]],\n",
        "\n",
        "        [[1.0, 1.0, 1.0],\n",
        "         [1.0, 1.0, 1.0]],\n",
        "    ])\n",
        "\n",
        "x.shape"
      ],
      "execution_count": null,
      "outputs": [
        {
          "output_type": "execute_result",
          "data": {
            "text/plain": [
              "torch.Size([4, 2, 3])"
            ]
          },
          "metadata": {},
          "execution_count": 117
        }
      ]
    },
    {
      "cell_type": "markdown",
      "metadata": {
        "id": "tfGGF8mmSJkq"
      },
      "source": [
        "### **Changing and adding dimensions**\n",
        "\n",
        "PyTorch provides several functions to manipulate tensor shapes\n"
      ]
    },
    {
      "cell_type": "markdown",
      "metadata": {
        "id": "i51GvUnwSc0U"
      },
      "source": [
        "#### **Transpose dimension**"
      ]
    },
    {
      "cell_type": "code",
      "metadata": {
        "id": "g1kH1K7XS6KS",
        "colab": {
          "base_uri": "https://localhost:8080/"
        },
        "outputId": "9ef5099c-4caa-43f8-d524-782c62c218a4"
      },
      "source": [
        "a = torch.ones((3, 5))\n",
        "a[0, -1] = 0  # index -1 denotes the last element, as in common python indexing\n",
        "print(\"a: \")\n",
        "print_arr(a)"
      ],
      "execution_count": null,
      "outputs": [
        {
          "output_type": "stream",
          "name": "stdout",
          "text": [
            "a: \n",
            "tensor([[1., 1., 1., 1., 0.],\n",
            "        [1., 1., 1., 1., 1.],\n",
            "        [1., 1., 1., 1., 1.]]) <shape: torch.Size([3, 5])> <dtype: torch.float32>\n"
          ]
        }
      ]
    },
    {
      "cell_type": "code",
      "metadata": {
        "id": "DUXAlWb7fJn9",
        "colab": {
          "base_uri": "https://localhost:8080/"
        },
        "outputId": "97e1f693-8185-49b1-dcfa-72b8669658a9"
      },
      "source": [
        "a.T"
      ],
      "execution_count": null,
      "outputs": [
        {
          "output_type": "execute_result",
          "data": {
            "text/plain": [
              "tensor([[1., 1., 1.],\n",
              "        [1., 1., 1.],\n",
              "        [1., 1., 1.],\n",
              "        [1., 1., 1.],\n",
              "        [0., 1., 1.]])"
            ]
          },
          "metadata": {},
          "execution_count": 119
        }
      ]
    },
    {
      "cell_type": "code",
      "metadata": {
        "id": "VqEfj7tuTAqK",
        "colab": {
          "base_uri": "https://localhost:8080/"
        },
        "outputId": "62554efd-c401-4455-f152-7ea6c17baa72"
      },
      "source": [
        "a.transpose(1, 0)  # Swap dimension 1 and 0"
      ],
      "execution_count": null,
      "outputs": [
        {
          "output_type": "execute_result",
          "data": {
            "text/plain": [
              "tensor([[1., 1., 1.],\n",
              "        [1., 1., 1.],\n",
              "        [1., 1., 1.],\n",
              "        [1., 1., 1.],\n",
              "        [0., 1., 1.]])"
            ]
          },
          "metadata": {},
          "execution_count": 120
        }
      ]
    },
    {
      "cell_type": "code",
      "metadata": {
        "id": "9wvUahrTS9uJ",
        "colab": {
          "base_uri": "https://localhost:8080/"
        },
        "outputId": "30183581-7606-43b0-bb50-ea86dad3b8c0"
      },
      "source": [
        "torch.einsum('ij -> ji', a)  # transpose using Einstein notation\n",
        "\n",
        "# In the next notebook we will explain the Einstein notation in detail"
      ],
      "execution_count": null,
      "outputs": [
        {
          "output_type": "execute_result",
          "data": {
            "text/plain": [
              "tensor([[1., 1., 1.],\n",
              "        [1., 1., 1.],\n",
              "        [1., 1., 1.],\n",
              "        [1., 1., 1.],\n",
              "        [0., 1., 1.]])"
            ]
          },
          "metadata": {},
          "execution_count": 121
        }
      ]
    },
    {
      "cell_type": "markdown",
      "metadata": {
        "id": "9nXnyRKSfPSw"
      },
      "source": [
        "#### 📖 Transpose in k-dimensions and in Numpy\n"
      ]
    },
    {
      "cell_type": "code",
      "metadata": {
        "id": "Sww5AtujTPiJ",
        "colab": {
          "base_uri": "https://localhost:8080/"
        },
        "outputId": "bca83ac8-c277-4864-9a01-2f8842e3ac33"
      },
      "source": [
        "a = torch.ones((2, 3, 6))\n",
        "a[1, 2, 4] = 42\n",
        "print_arr(a)"
      ],
      "execution_count": null,
      "outputs": [
        {
          "output_type": "stream",
          "name": "stdout",
          "text": [
            "tensor([[[ 1.,  1.,  1.,  1.,  1.,  1.],\n",
            "         [ 1.,  1.,  1.,  1.,  1.,  1.],\n",
            "         [ 1.,  1.,  1.,  1.,  1.,  1.]],\n",
            "\n",
            "        [[ 1.,  1.,  1.,  1.,  1.,  1.],\n",
            "         [ 1.,  1.,  1.,  1.,  1.,  1.],\n",
            "         [ 1.,  1.,  1.,  1., 42.,  1.]]]) <shape: torch.Size([2, 3, 6])> <dtype: torch.float32>\n"
          ]
        }
      ]
    },
    {
      "cell_type": "code",
      "metadata": {
        "id": "bFezEV5uTc1W",
        "colab": {
          "base_uri": "https://localhost:8080/"
        },
        "outputId": "a1548eeb-e915-439b-a95d-656c00c2ede1"
      },
      "source": [
        "a.transpose(2, 1)"
      ],
      "execution_count": null,
      "outputs": [
        {
          "output_type": "execute_result",
          "data": {
            "text/plain": [
              "tensor([[[ 1.,  1.,  1.],\n",
              "         [ 1.,  1.,  1.],\n",
              "         [ 1.,  1.,  1.],\n",
              "         [ 1.,  1.,  1.],\n",
              "         [ 1.,  1.,  1.],\n",
              "         [ 1.,  1.,  1.]],\n",
              "\n",
              "        [[ 1.,  1.,  1.],\n",
              "         [ 1.,  1.,  1.],\n",
              "         [ 1.,  1.,  1.],\n",
              "         [ 1.,  1.,  1.],\n",
              "         [ 1.,  1., 42.],\n",
              "         [ 1.,  1.,  1.]]])"
            ]
          },
          "metadata": {},
          "execution_count": 123
        }
      ]
    },
    {
      "cell_type": "code",
      "metadata": {
        "id": "pIYTVMyRUC1e",
        "colab": {
          "base_uri": "https://localhost:8080/"
        },
        "outputId": "73a70b58-866a-4479-ed9a-440b8ca1394e"
      },
      "source": [
        "torch.einsum('ijk->ikj', a)"
      ],
      "execution_count": null,
      "outputs": [
        {
          "output_type": "execute_result",
          "data": {
            "text/plain": [
              "tensor([[[ 1.,  1.,  1.],\n",
              "         [ 1.,  1.,  1.],\n",
              "         [ 1.,  1.,  1.],\n",
              "         [ 1.,  1.,  1.],\n",
              "         [ 1.,  1.,  1.],\n",
              "         [ 1.,  1.,  1.]],\n",
              "\n",
              "        [[ 1.,  1.,  1.],\n",
              "         [ 1.,  1.,  1.],\n",
              "         [ 1.,  1.,  1.],\n",
              "         [ 1.,  1.,  1.],\n",
              "         [ 1.,  1., 42.],\n",
              "         [ 1.,  1.,  1.]]])"
            ]
          },
          "metadata": {},
          "execution_count": 124
        }
      ]
    },
    {
      "cell_type": "markdown",
      "source": [
        "Shortcuts are handy, but your code becomes less readable.\n",
        "Most of the time readability is the most important goal to aim for!\n",
        "\n",
        "What do you think `a.T` will do to our rank-3 tensor? Once you have your hypothesis, test it here:"
      ],
      "metadata": {
        "id": "iF0q66cg-M6c"
      }
    },
    {
      "cell_type": "code",
      "source": [
        "a.T"
      ],
      "metadata": {
        "id": "hgp1QJWK-cX3",
        "colab": {
          "base_uri": "https://localhost:8080/"
        },
        "outputId": "c9082ac2-54b0-4313-e792-e609b1e42d41"
      },
      "execution_count": null,
      "outputs": [
        {
          "output_type": "stream",
          "name": "stderr",
          "text": [
            "<ipython-input-125-930b3746c61a>:1: UserWarning: The use of `x.T` on tensors of dimension other than 2 to reverse their shape is deprecated and it will throw an error in a future release. Consider `x.mT` to transpose batches of matrices or `x.permute(*torch.arange(x.ndim - 1, -1, -1))` to reverse the dimensions of a tensor. (Triggered internally at ../aten/src/ATen/native/TensorShape.cpp:3683.)\n",
            "  a.T\n"
          ]
        },
        {
          "output_type": "execute_result",
          "data": {
            "text/plain": [
              "tensor([[[ 1.,  1.],\n",
              "         [ 1.,  1.],\n",
              "         [ 1.,  1.]],\n",
              "\n",
              "        [[ 1.,  1.],\n",
              "         [ 1.,  1.],\n",
              "         [ 1.,  1.]],\n",
              "\n",
              "        [[ 1.,  1.],\n",
              "         [ 1.,  1.],\n",
              "         [ 1.,  1.]],\n",
              "\n",
              "        [[ 1.,  1.],\n",
              "         [ 1.,  1.],\n",
              "         [ 1.,  1.]],\n",
              "\n",
              "        [[ 1.,  1.],\n",
              "         [ 1.,  1.],\n",
              "         [ 1., 42.]],\n",
              "\n",
              "        [[ 1.,  1.],\n",
              "         [ 1.,  1.],\n",
              "         [ 1.,  1.]]])"
            ]
          },
          "metadata": {},
          "execution_count": 125
        }
      ]
    },
    {
      "cell_type": "markdown",
      "source": [
        "This is confusing even after reading the docs!\n",
        "\n",
        "Lesson learned: Prefer readable code to short code."
      ],
      "metadata": {
        "id": "-7zn8PWh-toL"
      }
    },
    {
      "cell_type": "markdown",
      "metadata": {
        "id": "a9Jshcp9Ul5O"
      },
      "source": [
        "> **NOTE**\n",
        ">\n",
        "> In Numpy the transpose function is different!\n",
        ">\n",
        "> PyTorch:\n",
        "> `torch.transpose(input, dim0, dim1) → Tensor`\n",
        ">\n",
        "> NumPy:\n",
        "> `numpy.transpose(a, axes=None) -> numpy.ndarray`\n",
        ">\n",
        "> Compare the docs from [numpy](https://numpy.org/doc/stable/reference/generated/numpy.transpose.html) and [pytorch](https://pytorch.org/docs/stable/generated/torch.transpose.html)\n",
        ">\n",
        "> In PyTorch the transpose swaps two dimensions. In NumPy you can specify a complete mapping to change all the dimensions."
      ]
    },
    {
      "cell_type": "code",
      "metadata": {
        "id": "K9ktDbO5Uswj",
        "colab": {
          "base_uri": "https://localhost:8080/"
        },
        "outputId": "683ccfce-29d2-4047-faa0-3289dbd74f1b"
      },
      "source": [
        "a = np.arange(10).reshape(2, 5)\n",
        "a"
      ],
      "execution_count": null,
      "outputs": [
        {
          "output_type": "execute_result",
          "data": {
            "text/plain": [
              "array([[0, 1, 2, 3, 4],\n",
              "       [5, 6, 7, 8, 9]])"
            ]
          },
          "metadata": {},
          "execution_count": 126
        }
      ]
    },
    {
      "cell_type": "code",
      "metadata": {
        "id": "h0QGO8d_hFmQ",
        "colab": {
          "base_uri": "https://localhost:8080/"
        },
        "outputId": "97b35978-c8b4-4206-9ece-4bb65295e828"
      },
      "source": [
        "a.transpose(1, 0)"
      ],
      "execution_count": null,
      "outputs": [
        {
          "output_type": "execute_result",
          "data": {
            "text/plain": [
              "array([[0, 5],\n",
              "       [1, 6],\n",
              "       [2, 7],\n",
              "       [3, 8],\n",
              "       [4, 9]])"
            ]
          },
          "metadata": {},
          "execution_count": 127
        }
      ]
    },
    {
      "cell_type": "code",
      "metadata": {
        "id": "8LLh0Qd7U2xT",
        "colab": {
          "base_uri": "https://localhost:8080/"
        },
        "outputId": "8aef2405-8f89-41b1-efa5-829790322f74"
      },
      "source": [
        "a.transpose(0, 1)"
      ],
      "execution_count": null,
      "outputs": [
        {
          "output_type": "execute_result",
          "data": {
            "text/plain": [
              "array([[0, 1, 2, 3, 4],\n",
              "       [5, 6, 7, 8, 9]])"
            ]
          },
          "metadata": {},
          "execution_count": 128
        }
      ]
    },
    {
      "cell_type": "code",
      "metadata": {
        "id": "Eu4YJcgAhAds",
        "colab": {
          "base_uri": "https://localhost:8080/"
        },
        "outputId": "81a0e95b-7bf4-4338-d44c-a814d3a455c5"
      },
      "source": [
        "torch.from_numpy(a).transpose(0, 1)"
      ],
      "execution_count": null,
      "outputs": [
        {
          "output_type": "execute_result",
          "data": {
            "text/plain": [
              "tensor([[0, 5],\n",
              "        [1, 6],\n",
              "        [2, 7],\n",
              "        [3, 8],\n",
              "        [4, 9]])"
            ]
          },
          "metadata": {},
          "execution_count": 129
        }
      ]
    },
    {
      "cell_type": "code",
      "metadata": {
        "id": "fsU83yRwU9VW",
        "colab": {
          "base_uri": "https://localhost:8080/"
        },
        "outputId": "3a17aa35-c92c-4fb8-f57f-425aa73a946f"
      },
      "source": [
        "# The einsum is cross platform. It works with consistent semantics\n",
        "# pretty much everywhere: PyTorch, NumPy, TensorFlow, Jax, ...\n",
        "# We will see the power of einsum in the next lab\n",
        "np.einsum('ij -> ji', a)"
      ],
      "execution_count": null,
      "outputs": [
        {
          "output_type": "execute_result",
          "data": {
            "text/plain": [
              "array([[0, 5],\n",
              "       [1, 6],\n",
              "       [2, 7],\n",
              "       [3, 8],\n",
              "       [4, 9]])"
            ]
          },
          "metadata": {},
          "execution_count": 130
        }
      ]
    },
    {
      "cell_type": "markdown",
      "metadata": {
        "id": "RWaicg6uVIXQ"
      },
      "source": [
        "#### **Reshape**\n",
        "\n",
        "Another important feature is **reshaping** a tensor into different dimensions\n",
        "\n",
        "- We need to make sure to **preserve the same number of elements**.\n",
        "- `-1` in one of the dimensions means **\"figure it out\"**.\n"
      ]
    },
    {
      "cell_type": "markdown",
      "metadata": {
        "id": "L5uTNjKI15kx"
      },
      "source": [
        "❌❌❌ Pay attention that **transposing and reshaping are two fundamentally different operations**:"
      ]
    },
    {
      "cell_type": "code",
      "metadata": {
        "id": "W01aXqIZwfCu",
        "colab": {
          "base_uri": "https://localhost:8080/"
        },
        "outputId": "40e8bc47-2b6c-474f-8b6b-ccb313787dc0"
      },
      "source": [
        "a = torch.arange(12).reshape(3,4 )\n",
        "a"
      ],
      "execution_count": null,
      "outputs": [
        {
          "output_type": "execute_result",
          "data": {
            "text/plain": [
              "tensor([[ 0,  1,  2,  3],\n",
              "        [ 4,  5,  6,  7],\n",
              "        [ 8,  9, 10, 11]])"
            ]
          },
          "metadata": {},
          "execution_count": 131
        }
      ]
    },
    {
      "cell_type": "code",
      "metadata": {
        "id": "c67xp19WwmGP",
        "colab": {
          "base_uri": "https://localhost:8080/"
        },
        "outputId": "7e2c0076-d135-4438-dd5f-2fe669a3f0f1"
      },
      "source": [
        "# The classical transpose\n",
        "a.t()"
      ],
      "execution_count": null,
      "outputs": [
        {
          "output_type": "execute_result",
          "data": {
            "text/plain": [
              "tensor([[ 0,  4,  8],\n",
              "        [ 1,  5,  9],\n",
              "        [ 2,  6, 10],\n",
              "        [ 3,  7, 11]])"
            ]
          },
          "metadata": {},
          "execution_count": 132
        }
      ]
    },
    {
      "cell_type": "code",
      "metadata": {
        "id": "EenpJs6gwoLd",
        "colab": {
          "base_uri": "https://localhost:8080/"
        },
        "outputId": "25ca3c56-b279-4e2d-fd4a-af298f487786"
      },
      "source": [
        "# Reshape into the transpose shape\n",
        "a.reshape(4, 3)"
      ],
      "execution_count": null,
      "outputs": [
        {
          "output_type": "execute_result",
          "data": {
            "text/plain": [
              "tensor([[ 0,  1,  2],\n",
              "        [ 3,  4,  5],\n",
              "        [ 6,  7,  8],\n",
              "        [ 9, 10, 11]])"
            ]
          },
          "metadata": {},
          "execution_count": 133
        }
      ]
    },
    {
      "cell_type": "markdown",
      "source": [
        "#### 📖 **What is `reshape` really doing?**\n"
      ],
      "metadata": {
        "id": "VoIngdEzwQNY"
      }
    },
    {
      "cell_type": "markdown",
      "metadata": {
        "id": "wJPn4ArY2Q6E"
      },
      "source": [
        "\n",
        "Think of the `reshape` operation as unrolling the tensor **row-wise**, to obtain a rank-1 tensor *(matlab users: matlab unrolls **column-wise**, pay attention when converting code!)*. Then it stores the values in this tensor following the specified dimensions.\n",
        "\n",
        "```python\n",
        "tensor([[ 0,  1,  2,  3],\n",
        "        [ 4,  5,  6,  7],\n",
        "        [ 8,  9, 10, 11]])\n",
        "```\n",
        "$-$ unrolling $ \\to $\n",
        "\n",
        "```python\n",
        "tensor([ 0,  1,  2,  3,  4,  5,  6,  7,  8,  9, 10, 11])\n",
        "```\n",
        "\n",
        "Then, reading the target shape from right to left, organize the values into the dimensions:\n",
        "\n",
        "- e.g. reshape into `[4, 3]`:\n",
        "\n",
        "```python\n",
        "tensor([ 0,  1,  2,  3,  4,  5,  6,  7,  8,  9, 10, 11])\n",
        "```\n",
        "\n",
        "$-$ organize in groups of $3$ $ \\to $\n",
        "\n",
        "```python\n",
        "tensor([[0,  1,  2],  [3,  4,  5],  [6,  7,  8],  [9, 10, 11]])\n",
        "```\n",
        "\n",
        "$-$ organize in groups of $4$ $ \\to $\n",
        "\n",
        "```python\n",
        "tensor([[ 0,  1,  2],\n",
        "        [ 3,  4,  5],\n",
        "        [ 6,  7,  8],\n",
        "        [ 9, 10, 11]])\n",
        "\n",
        "# same shape of corresponding transpose, but the values are stored differently!\n",
        "```\n",
        "\n",
        "- e.g. reshape into `[2, 2, 3]`:\n",
        "\n",
        "```python\n",
        "tensor([ 0,  1,  2,  3,  4,  5,  6,  7,  8,  9, 10, 11])\n",
        "```\n",
        "\n",
        "$-$ organize in groups of $3$ $ \\to $\n",
        "\n",
        "```python\n",
        "tensor([[0,  1,  2],  [3,  4,  5],  [6,  7,  8],  [9, 10, 11]])\n",
        "```\n",
        "\n",
        "$-$ organize in groups of $2$ $ \\to $\n",
        "\n",
        "```python\n",
        "tensor([[[0,  1,  2],  [3,  4,  5]],  [[6,  7,  8],  [9, 10, 11]]])\n",
        "```\n",
        "\n",
        "$-$ organize in groups of $2$ $ \\to $\n",
        "\n",
        "```python\n",
        "tensor([[[ 0,  1,  2],\n",
        "         [ 3,  4,  5]],\n",
        "\n",
        "        [[ 6,  7,  8],\n",
        "         [ 9, 10, 11]]])\n",
        "```"
      ]
    },
    {
      "cell_type": "code",
      "metadata": {
        "id": "U3U_yh07Vf7m",
        "colab": {
          "base_uri": "https://localhost:8080/"
        },
        "outputId": "84be9ee5-3194-4ded-a144-d68137cac399"
      },
      "source": [
        "a = torch.arange(12)\n",
        "print_arr(a)"
      ],
      "execution_count": null,
      "outputs": [
        {
          "output_type": "stream",
          "name": "stdout",
          "text": [
            "tensor([ 0,  1,  2,  3,  4,  5,  6,  7,  8,  9, 10, 11]) <shape: torch.Size([12])> <dtype: torch.int64>\n"
          ]
        }
      ]
    },
    {
      "cell_type": "code",
      "metadata": {
        "id": "_mqUJve9VjUQ",
        "colab": {
          "base_uri": "https://localhost:8080/"
        },
        "outputId": "8ceab574-ada4-4484-ca64-7f0379de1ba8"
      },
      "source": [
        "a.reshape(6, 2)"
      ],
      "execution_count": null,
      "outputs": [
        {
          "output_type": "execute_result",
          "data": {
            "text/plain": [
              "tensor([[ 0,  1],\n",
              "        [ 2,  3],\n",
              "        [ 4,  5],\n",
              "        [ 6,  7],\n",
              "        [ 8,  9],\n",
              "        [10, 11]])"
            ]
          },
          "metadata": {},
          "execution_count": 135
        }
      ]
    },
    {
      "cell_type": "code",
      "metadata": {
        "id": "i-qtMeW0VnTu",
        "colab": {
          "base_uri": "https://localhost:8080/"
        },
        "outputId": "acd30070-8b4f-405c-b9b2-c43a086af9fd"
      },
      "source": [
        "a.reshape(2, 6)"
      ],
      "execution_count": null,
      "outputs": [
        {
          "output_type": "execute_result",
          "data": {
            "text/plain": [
              "tensor([[ 0,  1,  2,  3,  4,  5],\n",
              "        [ 6,  7,  8,  9, 10, 11]])"
            ]
          },
          "metadata": {},
          "execution_count": 136
        }
      ]
    },
    {
      "cell_type": "code",
      "metadata": {
        "id": "S9miZ3XUqxvc",
        "colab": {
          "base_uri": "https://localhost:8080/"
        },
        "outputId": "e99bc635-8006-4852-857b-6fddcfdab4cd"
      },
      "source": [
        "a.reshape(2, 2, 3)"
      ],
      "execution_count": null,
      "outputs": [
        {
          "output_type": "execute_result",
          "data": {
            "text/plain": [
              "tensor([[[ 0,  1,  2],\n",
              "         [ 3,  4,  5]],\n",
              "\n",
              "        [[ 6,  7,  8],\n",
              "         [ 9, 10, 11]]])"
            ]
          },
          "metadata": {},
          "execution_count": 137
        }
      ]
    },
    {
      "cell_type": "code",
      "metadata": {
        "id": "1rUiVJQgWibl",
        "colab": {
          "base_uri": "https://localhost:8080/"
        },
        "outputId": "6c27f071-3ac9-4e52-f047-0644998b3ffa"
      },
      "source": [
        "try:\n",
        "  a.reshape(5, -1)\n",
        "except RuntimeError as e:\n",
        "  print('Error:', e)"
      ],
      "execution_count": null,
      "outputs": [
        {
          "output_type": "stream",
          "name": "stdout",
          "text": [
            "Error: shape '[5, -1]' is invalid for input of size 12\n"
          ]
        }
      ]
    },
    {
      "cell_type": "code",
      "metadata": {
        "id": "9STd1HDBWkym",
        "colab": {
          "base_uri": "https://localhost:8080/"
        },
        "outputId": "528fe67a-cd5e-4541-f8e3-612c5bf96b3d"
      },
      "source": [
        "a.reshape(1, -1)"
      ],
      "execution_count": null,
      "outputs": [
        {
          "output_type": "execute_result",
          "data": {
            "text/plain": [
              "tensor([[ 0,  1,  2,  3,  4,  5,  6,  7,  8,  9, 10, 11]])"
            ]
          },
          "metadata": {},
          "execution_count": 139
        }
      ]
    },
    {
      "cell_type": "code",
      "metadata": {
        "id": "-zjpBpctWr-D",
        "colab": {
          "base_uri": "https://localhost:8080/"
        },
        "outputId": "6a0b4c05-3f20-4400-81f4-36ebbaa1c791"
      },
      "source": [
        "a.reshape(-1, 1)"
      ],
      "execution_count": null,
      "outputs": [
        {
          "output_type": "execute_result",
          "data": {
            "text/plain": [
              "tensor([[ 0],\n",
              "        [ 1],\n",
              "        [ 2],\n",
              "        [ 3],\n",
              "        [ 4],\n",
              "        [ 5],\n",
              "        [ 6],\n",
              "        [ 7],\n",
              "        [ 8],\n",
              "        [ 9],\n",
              "        [10],\n",
              "        [11]])"
            ]
          },
          "metadata": {},
          "execution_count": 140
        }
      ]
    },
    {
      "cell_type": "code",
      "metadata": {
        "id": "qWpSkDFAWo_Q",
        "colab": {
          "base_uri": "https://localhost:8080/"
        },
        "outputId": "d60c6deb-e6ad-4309-c688-ff7dc3e152d3"
      },
      "source": [
        "a.reshape(-1)  # we are flattening the rank-k tensor into a rank-1 tensor"
      ],
      "execution_count": null,
      "outputs": [
        {
          "output_type": "execute_result",
          "data": {
            "text/plain": [
              "tensor([ 0,  1,  2,  3,  4,  5,  6,  7,  8,  9, 10, 11])"
            ]
          },
          "metadata": {},
          "execution_count": 141
        }
      ]
    },
    {
      "cell_type": "markdown",
      "metadata": {
        "id": "RS6Bg3gg-X-F"
      },
      "source": [
        "> **NOTE**\n",
        ">\n",
        "> We can add or remove dimensions of size `1` using `torch.unsqueeze` or `torch.squeeze`"
      ]
    },
    {
      "cell_type": "code",
      "metadata": {
        "id": "WuRS4c8HmUNB",
        "colab": {
          "base_uri": "https://localhost:8080/"
        },
        "outputId": "0d2cf11a-357e-454f-fe0b-9b4b2d33eed0"
      },
      "source": [
        "a"
      ],
      "execution_count": null,
      "outputs": [
        {
          "output_type": "execute_result",
          "data": {
            "text/plain": [
              "tensor([ 0,  1,  2,  3,  4,  5,  6,  7,  8,  9, 10, 11])"
            ]
          },
          "metadata": {},
          "execution_count": 142
        }
      ]
    },
    {
      "cell_type": "code",
      "source": [
        "a.shape"
      ],
      "metadata": {
        "id": "Gz9-eqQtAR_J",
        "colab": {
          "base_uri": "https://localhost:8080/"
        },
        "outputId": "b3bf79c8-d390-4317-aa3f-5fb91dfe0336"
      },
      "execution_count": null,
      "outputs": [
        {
          "output_type": "execute_result",
          "data": {
            "text/plain": [
              "torch.Size([12])"
            ]
          },
          "metadata": {},
          "execution_count": 143
        }
      ]
    },
    {
      "cell_type": "code",
      "metadata": {
        "id": "F2Z05GiFmUpt",
        "colab": {
          "base_uri": "https://localhost:8080/"
        },
        "outputId": "7d46ada5-8233-476d-8677-02412a2f8a88"
      },
      "source": [
        "a.unsqueeze(0).shape  # adds a new dimension at the beginning\n",
        "a"
      ],
      "execution_count": null,
      "outputs": [
        {
          "output_type": "execute_result",
          "data": {
            "text/plain": [
              "tensor([ 0,  1,  2,  3,  4,  5,  6,  7,  8,  9, 10, 11])"
            ]
          },
          "metadata": {},
          "execution_count": 147
        }
      ]
    },
    {
      "cell_type": "code",
      "metadata": {
        "id": "UXZUg0P_mcha",
        "colab": {
          "base_uri": "https://localhost:8080/"
        },
        "outputId": "381912ae-635f-403a-b6d5-d8238fa3dac8"
      },
      "source": [
        "a.unsqueeze(-1).shape  # adds a new dimension at the end\n",
        "a"
      ],
      "execution_count": null,
      "outputs": [
        {
          "output_type": "execute_result",
          "data": {
            "text/plain": [
              "tensor([ 0,  1,  2,  3,  4,  5,  6,  7,  8,  9, 10, 11])"
            ]
          },
          "metadata": {},
          "execution_count": 149
        }
      ]
    },
    {
      "cell_type": "markdown",
      "metadata": {
        "id": "OYWdXFvqrbqS"
      },
      "source": [
        "> **NOTE**\n",
        ">\n",
        "> Often the reshape does not require a physical copy of the data, but just a logical\n",
        "> reorganization.\n",
        ">\n",
        "> If you are curious about the NumPy/PyTorch tensor internals, a good starting point to learn about *strides* is this [SO answer](https://stackoverflow.com/questions/53097952/how-to-understand-numpy-strides-for-layman).\n",
        "> tldr: often you can reshape tensors by changing only its strides and shape. The strides  are the byte-separation between consecutive items for each dimension.\n",
        ">\n",
        "> To be sure to obtain a *view* of the tensor, that shares the same underlying data, you can use the `torch.view` method.\n",
        "> Its semantics is similar to `reshape`, but it works only on [`contiguous` tensors](https://discuss.pytorch.org/t/contigious-vs-non-contigious-tensor/30107/2) and it guarantees that no copy will be performed."
      ]
    },
    {
      "cell_type": "markdown",
      "metadata": {
        "id": "VYocF4AUBJN4"
      },
      "source": [
        "> **EXERCISE**\n",
        ">\n",
        "> Given a sequence of increasing numbers from `0` to `9`, defined as:\n",
        ">\n",
        "> ```python\n",
        "> a = torch.arange(10)\n",
        "> ```\n",
        ">\n",
        "> Use only the `reshape` and `transpose` functions to obtain the following tensor from `a`:\n",
        ">\n",
        "> ```python\n",
        "> tensor([0, 2, 4, 6, 8, 1, 3, 5, 7, 9])\n",
        "> ```"
      ]
    },
    {
      "cell_type": "code",
      "metadata": {
        "id": "leLESEEVD-Eq",
        "colab": {
          "base_uri": "https://localhost:8080/"
        },
        "outputId": "a67f10f4-254f-4bd9-8e47-30683c1c8ed2"
      },
      "source": [
        "# Your solution\n",
        "\n",
        "a = torch.arange(10)\n",
        "a = a.reshape(-1, 2)\n",
        "a = torch.transpose(a, 0,1)\n",
        "a = a.reshape(10)\n",
        "a"
      ],
      "execution_count": null,
      "outputs": [
        {
          "output_type": "execute_result",
          "data": {
            "text/plain": [
              "tensor([0, 2, 4, 6, 8, 1, 3, 5, 7, 9])"
            ]
          },
          "metadata": {},
          "execution_count": 171
        }
      ]
    },
    {
      "cell_type": "code",
      "source": [
        "# @title 👀 Solution\n",
        "\n",
        "\n",
        "a.reshape(5, 2).transpose(0, 1).reshape(1, -1).squeeze()"
      ],
      "metadata": {
        "id": "3KUBAb3mCYOS"
      },
      "execution_count": null,
      "outputs": []
    },
    {
      "cell_type": "markdown",
      "metadata": {
        "id": "zjvDvo4yXAk-"
      },
      "source": [
        "#### **Concatenation**\n",
        "\n",
        "PyTorch provides many functions to manipulate tensors.\n",
        "Two of the most common functions are:\n",
        "\n",
        "- `torch.stack`: Adds a **new** dimension, and concatenates the given tensors along that dimension.\n",
        "- `torch.cat`: Concatenates the given tensors along one of the **existing** dimensions."
      ]
    },
    {
      "cell_type": "code",
      "metadata": {
        "id": "Oq1IMbFvXLPk",
        "colab": {
          "base_uri": "https://localhost:8080/"
        },
        "outputId": "2c97e0da-5b69-4883-b66b-94f8724ae7f4"
      },
      "source": [
        "a = torch.arange(12).reshape(3, 4)\n",
        "b = torch.arange(12).reshape(3, 4) + 100\n",
        "print_arr(a, b)"
      ],
      "execution_count": null,
      "outputs": [
        {
          "output_type": "stream",
          "name": "stdout",
          "text": [
            "tensor([[ 0,  1,  2,  3],\n",
            "        [ 4,  5,  6,  7],\n",
            "        [ 8,  9, 10, 11]]) <shape: torch.Size([3, 4])> <dtype: torch.int64>\n",
            "\n",
            "tensor([[100, 101, 102, 103],\n",
            "        [104, 105, 106, 107],\n",
            "        [108, 109, 110, 111]]) <shape: torch.Size([3, 4])> <dtype: torch.int64>\n"
          ]
        }
      ]
    },
    {
      "cell_type": "code",
      "source": [
        "out = torch.stack((a, b), dim=0)\n",
        "print_arr(out)"
      ],
      "metadata": {
        "id": "idTJRE6oDRpi",
        "colab": {
          "base_uri": "https://localhost:8080/"
        },
        "outputId": "b4f7a624-8a81-44e0-ebca-9dac0ce51055"
      },
      "execution_count": null,
      "outputs": [
        {
          "output_type": "stream",
          "name": "stdout",
          "text": [
            "tensor([[[  0,   1,   2,   3],\n",
            "         [  4,   5,   6,   7],\n",
            "         [  8,   9,  10,  11]],\n",
            "\n",
            "        [[100, 101, 102, 103],\n",
            "         [104, 105, 106, 107],\n",
            "         [108, 109, 110, 111]]]) <shape: torch.Size([2, 3, 4])> <dtype: torch.int64>\n"
          ]
        }
      ]
    },
    {
      "cell_type": "code",
      "metadata": {
        "id": "EsyXtEm4XRf1",
        "colab": {
          "base_uri": "https://localhost:8080/"
        },
        "outputId": "4858f585-3da3-4db3-e74d-0d29ba90d2bb"
      },
      "source": [
        "out = torch.cat((a, b), dim=0)\n",
        "print_arr(out)"
      ],
      "execution_count": null,
      "outputs": [
        {
          "output_type": "stream",
          "name": "stdout",
          "text": [
            "tensor([[  0,   1,   2,   3],\n",
            "        [  4,   5,   6,   7],\n",
            "        [  8,   9,  10,  11],\n",
            "        [100, 101, 102, 103],\n",
            "        [104, 105, 106, 107],\n",
            "        [108, 109, 110, 111]]) <shape: torch.Size([6, 4])> <dtype: torch.int64>\n"
          ]
        }
      ]
    },
    {
      "cell_type": "code",
      "source": [
        "out = torch.cat((a, b), dim=1)\n",
        "print_arr(out)"
      ],
      "metadata": {
        "id": "upRrgqeZILbb",
        "colab": {
          "base_uri": "https://localhost:8080/"
        },
        "outputId": "adab2e18-7c68-4bde-d936-6b6cd77c6ef4"
      },
      "execution_count": null,
      "outputs": [
        {
          "output_type": "stream",
          "name": "stdout",
          "text": [
            "tensor([[  0,   1,   2,   3, 100, 101, 102, 103],\n",
            "        [  4,   5,   6,   7, 104, 105, 106, 107],\n",
            "        [  8,   9,  10,  11, 108, 109, 110, 111]]) <shape: torch.Size([3, 8])> <dtype: torch.int64>\n"
          ]
        }
      ]
    },
    {
      "cell_type": "markdown",
      "metadata": {
        "id": "qHQFWwzCn8k7"
      },
      "source": [
        "> **EXERCISE**\n",
        ">\n",
        "> Given a tensor $X \\in \\mathbb{R}^{3 \\times 1920 \\times 5 \\times 1080}$ reorganize it in order to obtain a tensor $Y \\in \\mathbb{R}^{5 \\times 1920 \\times 1080 \\times 3}$\n",
        ">\n",
        "> Think of $X$ as a tensor that represents $5$ RGB images of size $1080\\times 1920$. Your goal is to reorganize this tensor in a sensible (and usable) way.\n"
      ]
    },
    {
      "cell_type": "code",
      "metadata": {
        "id": "PrMb_KB_ogMs",
        "colab": {
          "base_uri": "https://localhost:8080/"
        },
        "outputId": "98902dcf-937d-424a-9286-acc4e0bd64cc"
      },
      "source": [
        "a = torch.rand(3, 1920, 5, 1080)\n",
        "a.shape"
      ],
      "execution_count": null,
      "outputs": [
        {
          "output_type": "execute_result",
          "data": {
            "text/plain": [
              "torch.Size([3, 1920, 5, 1080])"
            ]
          },
          "metadata": {},
          "execution_count": 191
        }
      ]
    },
    {
      "cell_type": "code",
      "source": [
        "# Your solution\n",
        "a = torch.transpose(a, 2,0).transpose(2,3)\n",
        "a.shape"
      ],
      "metadata": {
        "id": "b2twlGrOJ0VO",
        "colab": {
          "base_uri": "https://localhost:8080/"
        },
        "outputId": "b70d515f-b9b8-4dd1-c96d-19b027d34d85"
      },
      "execution_count": null,
      "outputs": [
        {
          "output_type": "execute_result",
          "data": {
            "text/plain": [
              "torch.Size([5, 1920, 1080, 3])"
            ]
          },
          "metadata": {},
          "execution_count": 192
        }
      ]
    },
    {
      "cell_type": "code",
      "source": [
        "# @title 👀 Solution\n",
        "\n",
        "a.transpose(0, 2).transpose(2, 3).shape\n",
        "\n",
        "# Equivalent solution\n",
        "a.permute(2, 1, 3, 0).shape"
      ],
      "metadata": {
        "cellView": "form",
        "id": "nLpeXAQ1I1zR"
      },
      "execution_count": null,
      "outputs": []
    },
    {
      "cell_type": "markdown",
      "metadata": {
        "id": "QPHnbIH_rn_C"
      },
      "source": [
        "### **Tensor indexing**\n",
        "\n",
        "PyTorch offers several ways to index tensors\n"
      ]
    },
    {
      "cell_type": "markdown",
      "metadata": {
        "id": "U68ToAl1r_dG"
      },
      "source": [
        "#### **Standard indexing**\n",
        "\n",
        "As a standard Python list, PyTorch tensors support the python indexing conventions:"
      ]
    },
    {
      "cell_type": "code",
      "metadata": {
        "id": "PWzGd3vYsb8e",
        "colab": {
          "base_uri": "https://localhost:8080/"
        },
        "outputId": "e0d271c2-5758-4023-a66b-b081229b3da6"
      },
      "source": [
        "a = torch.arange(10)\n",
        "a"
      ],
      "execution_count": null,
      "outputs": [
        {
          "output_type": "execute_result",
          "data": {
            "text/plain": [
              "tensor([0, 1, 2, 3, 4, 5, 6, 7, 8, 9])"
            ]
          },
          "metadata": {},
          "execution_count": 193
        }
      ]
    },
    {
      "cell_type": "code",
      "metadata": {
        "id": "vTn3_9F3tAVl"
      },
      "source": [
        "print(a[0])  # first element\n",
        "print(a[5])  # sixth element"
      ],
      "execution_count": null,
      "outputs": []
    },
    {
      "cell_type": "code",
      "metadata": {
        "id": "vDGstnvrs6wf",
        "colab": {
          "base_uri": "https://localhost:8080/"
        },
        "outputId": "fafc6cc4-85d1-4215-bf40-c6057fd8ec31"
      },
      "source": [
        "print(a[-1])  # last element\n",
        "print(a[-2])  # second last element"
      ],
      "execution_count": null,
      "outputs": [
        {
          "output_type": "stream",
          "name": "stdout",
          "text": [
            "tensor(9)\n",
            "tensor(8)\n"
          ]
        }
      ]
    },
    {
      "cell_type": "markdown",
      "metadata": {
        "id": "t_uRKJqor2Ty"
      },
      "source": [
        "#### **Multidimensional indexing**\n",
        "\n",
        "Since tensors may be multidimensional, you can specify **one index for each dimension**:"
      ]
    },
    {
      "cell_type": "code",
      "metadata": {
        "id": "4oSg1hGQtyT8",
        "colab": {
          "base_uri": "https://localhost:8080/"
        },
        "outputId": "f39f4b7f-6510-4afe-d3be-b908cfc7af35"
      },
      "source": [
        "a = torch.arange(10).reshape(2, 5)\n",
        "a"
      ],
      "execution_count": null,
      "outputs": [
        {
          "output_type": "execute_result",
          "data": {
            "text/plain": [
              "tensor([[0, 1, 2, 3, 4],\n",
              "        [5, 6, 7, 8, 9]])"
            ]
          },
          "metadata": {},
          "execution_count": 196
        }
      ]
    },
    {
      "cell_type": "code",
      "metadata": {
        "id": "QfPPgXguqeT9",
        "colab": {
          "base_uri": "https://localhost:8080/"
        },
        "outputId": "1ea7c468-9d57-4803-b046-99a129910030"
      },
      "source": [
        "a[1, 3]"
      ],
      "execution_count": null,
      "outputs": [
        {
          "output_type": "execute_result",
          "data": {
            "text/plain": [
              "tensor(8)"
            ]
          },
          "metadata": {},
          "execution_count": 197
        }
      ]
    },
    {
      "cell_type": "code",
      "metadata": {
        "id": "p_d7tUsVuKNM",
        "colab": {
          "base_uri": "https://localhost:8080/"
        },
        "outputId": "922e7945-89fc-497d-9daa-3b713470848e"
      },
      "source": [
        "a[0]"
      ],
      "execution_count": null,
      "outputs": [
        {
          "output_type": "execute_result",
          "data": {
            "text/plain": [
              "tensor([0, 1, 2, 3, 4])"
            ]
          },
          "metadata": {},
          "execution_count": 198
        }
      ]
    },
    {
      "cell_type": "code",
      "metadata": {
        "id": "6zErRdLjud3S"
      },
      "source": [
        "a[1]"
      ],
      "execution_count": null,
      "outputs": []
    },
    {
      "cell_type": "code",
      "metadata": {
        "id": "j40QvNuLugWX",
        "colab": {
          "base_uri": "https://localhost:8080/"
        },
        "outputId": "fb135f82-f7f2-4116-e98f-93336e4e0fca"
      },
      "source": [
        "a[0, -1]"
      ],
      "execution_count": null,
      "outputs": [
        {
          "output_type": "execute_result",
          "data": {
            "text/plain": [
              "tensor(4)"
            ]
          },
          "metadata": {},
          "execution_count": 199
        }
      ]
    },
    {
      "cell_type": "markdown",
      "source": [
        "> **EXERCISE**\n",
        ">\n",
        "> What element is at position `a[1, -1]`?"
      ],
      "metadata": {
        "id": "ei6RS_wkKJp6"
      }
    },
    {
      "cell_type": "markdown",
      "metadata": {
        "id": "XY76VPqCuhc1"
      },
      "source": [
        "#### **Slicing**\n",
        "\n",
        "Similar to Python sequences and Numpy arrays, PyTorch tensors can be easily sliced using the slice notation:\n",
        "\n",
        "```python\n",
        "a[start:stop]  # items from start to stop-1 (i.e. the last element is excluded)\n",
        "a[start:]      # items from start through the rest of the array\n",
        "a[:stop]       # items from the beginning through stop-1\n",
        "a[:]           # a shallow copy of the whole array\n",
        "```\n",
        "\n",
        "There is also an optional step value, which can be used with any of the above:\n",
        "\n",
        "```python\n",
        "a[start:stop:step] # from start to at most stop-1, by step\n",
        "```"
      ]
    },
    {
      "cell_type": "code",
      "metadata": {
        "id": "ku-xaZ7LvjR5",
        "colab": {
          "base_uri": "https://localhost:8080/"
        },
        "outputId": "2726429c-edbe-4028-8a9d-a052b04f1c99"
      },
      "source": [
        "# Sum with scalar acts element-wise\n",
        "a = torch.arange(10) + 10\n",
        "a"
      ],
      "execution_count": null,
      "outputs": [
        {
          "output_type": "execute_result",
          "data": {
            "text/plain": [
              "tensor([10, 11, 12, 13, 14, 15, 16, 17, 18, 19])"
            ]
          },
          "metadata": {},
          "execution_count": 200
        }
      ]
    },
    {
      "cell_type": "code",
      "source": [
        "# Take the elements in positions 5..6\n",
        "a[5:7]"
      ],
      "metadata": {
        "id": "7TRwjulxKo_E"
      },
      "execution_count": null,
      "outputs": []
    },
    {
      "cell_type": "code",
      "metadata": {
        "id": "aut0rgIEwIG_"
      },
      "source": [
        "# Take the last 5 elements\n",
        "a[-5:]"
      ],
      "execution_count": null,
      "outputs": []
    },
    {
      "cell_type": "code",
      "metadata": {
        "id": "UZ3vLffywvQt"
      },
      "source": [
        "# Select every element having an even index\n",
        "a[::2]"
      ],
      "execution_count": null,
      "outputs": []
    },
    {
      "cell_type": "markdown",
      "metadata": {
        "id": "lMgTjK6yyRCl"
      },
      "source": [
        "With multidimensional tensors we can perform **multidimensional slicing**:"
      ]
    },
    {
      "cell_type": "code",
      "metadata": {
        "id": "ZJYcchmxykd6"
      },
      "source": [
        "a = torch.arange(10).reshape(2, 5)\n",
        "a"
      ],
      "execution_count": null,
      "outputs": []
    },
    {
      "cell_type": "code",
      "metadata": {
        "id": "gkhWYbVHyq-H"
      },
      "source": [
        "# Take the second column\n",
        "a[:, 1]"
      ],
      "execution_count": null,
      "outputs": []
    },
    {
      "cell_type": "code",
      "metadata": {
        "id": "5PzkxXpdyMoL"
      },
      "source": [
        "# Take the last column\n",
        "a[:, -1]"
      ],
      "execution_count": null,
      "outputs": []
    },
    {
      "cell_type": "code",
      "metadata": {
        "id": "7q0GVL_YxVRK"
      },
      "source": [
        "# Take a slice from the last row\n",
        "a[-1, -3:]"
      ],
      "execution_count": null,
      "outputs": []
    },
    {
      "cell_type": "markdown",
      "metadata": {
        "id": "Z6oeDEvEzvhQ"
      },
      "source": [
        "You can **assign** to sliced tensors, therefore *modifying the original tensor*.\n",
        "\n",
        "This means that sliced tensors are **shallow copies**: the resulting tensors **share the underlying data** with the original tensor."
      ]
    },
    {
      "cell_type": "code",
      "metadata": {
        "id": "R2XdMXUUzLFV"
      },
      "source": [
        "a = torch.arange(10).reshape(2, 5)\n",
        "a"
      ],
      "execution_count": null,
      "outputs": []
    },
    {
      "cell_type": "code",
      "metadata": {
        "id": "aiM4-1Je1C3y"
      },
      "source": [
        "b = a[0:2, 1:3]\n",
        "b"
      ],
      "execution_count": null,
      "outputs": []
    },
    {
      "cell_type": "code",
      "metadata": {
        "id": "Evbxee1A1GFo"
      },
      "source": [
        "b[-1, :] = -999\n",
        "b"
      ],
      "execution_count": null,
      "outputs": []
    },
    {
      "cell_type": "code",
      "metadata": {
        "id": "44A4NAYewvYd"
      },
      "source": [
        "# The original tensor has been modified\n",
        "a"
      ],
      "execution_count": null,
      "outputs": []
    },
    {
      "cell_type": "code",
      "metadata": {
        "id": "chqxaQU63oxh"
      },
      "source": [
        "a[-1, -1] = -1\n",
        "a"
      ],
      "execution_count": null,
      "outputs": []
    },
    {
      "cell_type": "markdown",
      "metadata": {
        "id": "Y_yFS2q51zdn"
      },
      "source": [
        "> **NOTE**\n",
        ">\n",
        "> Indexing with **integers yields lower rank tensors**\n",
        ">\n",
        "> Integer indexing simply means we don't use slices (:) or boolean masks for indexing."
      ]
    },
    {
      "cell_type": "code",
      "metadata": {
        "id": "CqLGPTtlu22k",
        "colab": {
          "base_uri": "https://localhost:8080/"
        },
        "outputId": "42e235d8-5244-40b2-ffcc-11faa266134e"
      },
      "source": [
        "a = torch.arange(12).reshape(3, 4)\n",
        "print_arr(a)"
      ],
      "execution_count": null,
      "outputs": [
        {
          "output_type": "stream",
          "name": "stdout",
          "text": [
            "tensor([[ 0,  1,  2,  3],\n",
            "        [ 4,  5,  6,  7],\n",
            "        [ 8,  9, 10, 11]]) <shape: torch.Size([3, 4])> <dtype: torch.int64>\n"
          ]
        }
      ]
    },
    {
      "cell_type": "code",
      "metadata": {
        "id": "u2vHVDozvCag",
        "colab": {
          "base_uri": "https://localhost:8080/"
        },
        "outputId": "a71f2abc-3682-4e73-85a7-2ca71990e18d"
      },
      "source": [
        "# Rank-1 view of the second row of a\n",
        "row_r1 = a[1, :]\n",
        "print_arr(row_r1)  # notice the size of the resulting tensor, which is now lower than the original tensor"
      ],
      "execution_count": null,
      "outputs": [
        {
          "output_type": "stream",
          "name": "stdout",
          "text": [
            "tensor([4, 5, 6, 7]) <shape: torch.Size([4])> <dtype: torch.int64>\n"
          ]
        }
      ]
    },
    {
      "cell_type": "code",
      "metadata": {
        "id": "CTsk6eG325Ib",
        "colab": {
          "base_uri": "https://localhost:8080/"
        },
        "outputId": "31a4d3b2-0a87-4a4d-c4da-7c7ff72d5f01"
      },
      "source": [
        "# Rank-2 view of the second row of a\n",
        "row_r2 = a[1:2, :]\n",
        "print_arr(row_r2)"
      ],
      "execution_count": null,
      "outputs": [
        {
          "output_type": "stream",
          "name": "stdout",
          "text": [
            "tensor([[4, 5, 6, 7]]) <shape: torch.Size([1, 4])> <dtype: torch.int64>\n"
          ]
        }
      ]
    },
    {
      "cell_type": "code",
      "metadata": {
        "id": "zUVPrn7l3A5j"
      },
      "source": [
        "# Rank-2 view of the second row of a\n",
        "row_r3 = a[[1], :]\n",
        "print_arr(row_r3)"
      ],
      "execution_count": null,
      "outputs": []
    },
    {
      "cell_type": "code",
      "metadata": {
        "id": "TL0qs9Gw3Mfu"
      },
      "source": [
        "# Same with the columns\n",
        "print_arr(a[:, 1])\n",
        "print_arr(a[:, [1]])"
      ],
      "execution_count": null,
      "outputs": []
    },
    {
      "cell_type": "markdown",
      "metadata": {
        "id": "TjIcC1HqwvU1"
      },
      "source": [
        "#### 📖📖 **Slice Object**\n",
        "\n",
        "The **slice syntax** is just a shortand.\n",
        "\n",
        "In Python everything is an object, even a ``slice``.\n",
        "It is possible to explicitly create a ``Slice`` object and reuse it to **index multiple tensors in the same way**:\n",
        "\n",
        "\n",
        "\n"
      ]
    },
    {
      "cell_type": "code",
      "metadata": {
        "id": "3D8qk7q0xUAb",
        "colab": {
          "base_uri": "https://localhost:8080/"
        },
        "outputId": "266d87ca-f3fb-428e-f2e8-e1fba6abb79d"
      },
      "source": [
        "# The signature follows the same pattern as above: (begin, end, step)\n",
        "\n",
        "s1 = slice(3)  # equivalent to the slice [:3]\n",
        "s1"
      ],
      "execution_count": null,
      "outputs": [
        {
          "output_type": "execute_result",
          "data": {
            "text/plain": [
              "slice(None, 3, None)"
            ]
          },
          "metadata": {},
          "execution_count": 204
        }
      ]
    },
    {
      "cell_type": "code",
      "metadata": {
        "id": "fMqp5ZCEp8uu",
        "colab": {
          "base_uri": "https://localhost:8080/"
        },
        "outputId": "4f8e0fe2-a276-410b-ea90-f9a20393a154"
      },
      "source": [
        "type(s1)  # Slice is a python built-in type!"
      ],
      "execution_count": null,
      "outputs": [
        {
          "output_type": "execute_result",
          "data": {
            "text/plain": [
              "slice"
            ]
          },
          "metadata": {},
          "execution_count": 205
        }
      ]
    },
    {
      "cell_type": "code",
      "metadata": {
        "id": "JIxqkduyp470",
        "colab": {
          "base_uri": "https://localhost:8080/"
        },
        "outputId": "f530fc87-73d1-4abe-df0a-541e36949416"
      },
      "source": [
        "out = a[s1]  # equivalent to a[:3]\n",
        "\n",
        "print_arr(a, out)"
      ],
      "execution_count": null,
      "outputs": [
        {
          "output_type": "stream",
          "name": "stdout",
          "text": [
            "tensor([[ 0,  1,  2,  3],\n",
            "        [ 4,  5,  6,  7],\n",
            "        [ 8,  9, 10, 11]]) <shape: torch.Size([3, 4])> <dtype: torch.int64>\n",
            "\n",
            "tensor([[ 0,  1,  2,  3],\n",
            "        [ 4,  5,  6,  7],\n",
            "        [ 8,  9, 10, 11]]) <shape: torch.Size([3, 4])> <dtype: torch.int64>\n"
          ]
        }
      ]
    },
    {
      "cell_type": "code",
      "metadata": {
        "id": "JWr9dLVqxziR",
        "colab": {
          "base_uri": "https://localhost:8080/",
          "height": 35
        },
        "outputId": "15a51411-0ed5-460a-a048-e578a7fc9f5c"
      },
      "source": [
        "mystring = 'this is just a string'\n",
        "mystring[s1]"
      ],
      "execution_count": null,
      "outputs": [
        {
          "output_type": "execute_result",
          "data": {
            "text/plain": [
              "'thi'"
            ],
            "application/vnd.google.colaboratory.intrinsic+json": {
              "type": "string"
            }
          },
          "metadata": {},
          "execution_count": 207
        }
      ]
    },
    {
      "cell_type": "code",
      "metadata": {
        "id": "RNehWUQn2t4H",
        "colab": {
          "base_uri": "https://localhost:8080/",
          "height": 35
        },
        "outputId": "5bb2a084-9cac-4f1b-c633-ff11c717e08c"
      },
      "source": [
        "s2 = slice(None, None, -1)  # equivalent to [::-1]\n",
        "mystring[s2]"
      ],
      "execution_count": null,
      "outputs": [
        {
          "output_type": "execute_result",
          "data": {
            "text/plain": [
              "'gnirts a tsuj si siht'"
            ],
            "application/vnd.google.colaboratory.intrinsic+json": {
              "type": "string"
            }
          },
          "metadata": {},
          "execution_count": 208
        }
      ]
    },
    {
      "cell_type": "code",
      "metadata": {
        "id": "XvkH5XOCyJQx",
        "colab": {
          "base_uri": "https://localhost:8080/"
        },
        "outputId": "4e1e0170-6013-436d-ba55-4d9ff982bc2e"
      },
      "source": [
        "try:\n",
        "  a[s2]  # PyTorch currently does not support negative steps\n",
        "except ValueError as e:\n",
        "  print('Error:', e)"
      ],
      "execution_count": null,
      "outputs": [
        {
          "output_type": "stream",
          "name": "stdout",
          "text": [
            "Error: step must be greater than zero\n"
          ]
        }
      ]
    },
    {
      "cell_type": "markdown",
      "metadata": {
        "id": "UUsBgzbl33Qc"
      },
      "source": [
        "#### 📖 **Integer array indexing**\n",
        "\n",
        "When we use slices (:), the resulting tensor view will always be a subarray of the original tensor.\n",
        "\n",
        "In contrast, if we index with integers only, we can construct arbitrary tensors using the data from another tensor."
      ]
    },
    {
      "cell_type": "code",
      "metadata": {
        "id": "8yJ7eft44Shf",
        "colab": {
          "base_uri": "https://localhost:8080/"
        },
        "outputId": "831563dd-241d-484f-b577-bb7951cdc67f"
      },
      "source": [
        "a = torch.arange(1, 7).reshape(3, 2)\n",
        "print_arr(a)"
      ],
      "execution_count": null,
      "outputs": [
        {
          "output_type": "stream",
          "name": "stdout",
          "text": [
            "tensor([[1, 2],\n",
            "        [3, 4],\n",
            "        [5, 6]]) <shape: torch.Size([3, 2])> <dtype: torch.int64>\n"
          ]
        }
      ]
    },
    {
      "cell_type": "code",
      "metadata": {
        "id": "YDGTkvIQ4qaO",
        "colab": {
          "base_uri": "https://localhost:8080/"
        },
        "outputId": "0831cc4e-c447-4670-f3ca-73c4ca861e46"
      },
      "source": [
        "# Example of integer array indexing\n",
        "# The returned array will have shape (3,)\n",
        "b = a[[0, 1, 2], [0, 1, 0]]\n",
        "# (0,0) -> 1\n",
        "# (1,1) -> 4\n",
        "# (2,0) -> 5\n",
        "print_arr(b)"
      ],
      "execution_count": null,
      "outputs": [
        {
          "output_type": "stream",
          "name": "stdout",
          "text": [
            "tensor([1, 4, 5]) <shape: torch.Size([3])> <dtype: torch.int64>\n"
          ]
        }
      ]
    },
    {
      "cell_type": "code",
      "metadata": {
        "id": "e8AjjBKF4nos",
        "colab": {
          "base_uri": "https://localhost:8080/"
        },
        "outputId": "477b34c1-0180-4118-f81a-d8fb807b5b13"
      },
      "source": [
        "# The above is equivalent to:\n",
        "v1, v2, v3 = a[0, 0], a[1, 1], a[2, 0]\n",
        "b = torch.tensor([v1, v2, v3])\n",
        "print_arr(b)"
      ],
      "execution_count": null,
      "outputs": [
        {
          "output_type": "stream",
          "name": "stdout",
          "text": [
            "tensor([1, 4, 5]) <shape: torch.Size([3])> <dtype: torch.int64>\n"
          ]
        }
      ]
    },
    {
      "cell_type": "code",
      "metadata": {
        "id": "WnVB223B5Nf9",
        "colab": {
          "base_uri": "https://localhost:8080/"
        },
        "outputId": "fdb7e1fe-5ea2-4ace-95be-783340d5b1ed"
      },
      "source": [
        "# You can re-use the same element of the source tensor multiple times!\n",
        "print_arr(a[[0, 0], [1, 1]])\n",
        "print_arr(torch.tensor([a[0, 1], a[0, 1]]))"
      ],
      "execution_count": null,
      "outputs": [
        {
          "output_type": "stream",
          "name": "stdout",
          "text": [
            "tensor([2, 2]) <shape: torch.Size([2])> <dtype: torch.int64>\n",
            "tensor([2, 2]) <shape: torch.Size([2])> <dtype: torch.int64>\n"
          ]
        }
      ]
    },
    {
      "cell_type": "code",
      "metadata": {
        "id": "NG8PUPue5ntQ",
        "colab": {
          "base_uri": "https://localhost:8080/"
        },
        "outputId": "b439d1e5-9751-4b2a-8874-0f34f0ce6237"
      },
      "source": [
        "# You can use another tensor to perform the indexing,\n",
        "# as long as they have dtype=torch.int64 (synonym for torch.long)\n",
        "i = torch.ones(3, dtype=torch.int64)\n",
        "i"
      ],
      "execution_count": null,
      "outputs": [
        {
          "output_type": "execute_result",
          "data": {
            "text/plain": [
              "tensor([1, 1, 1])"
            ]
          },
          "metadata": {},
          "execution_count": 216
        }
      ]
    },
    {
      "cell_type": "code",
      "metadata": {
        "id": "yp--PCJN5uvA",
        "colab": {
          "base_uri": "https://localhost:8080/"
        },
        "outputId": "4c80b9a2-03e0-4f00-fa5f-9b88ef66efc2"
      },
      "source": [
        "j = torch.tensor([0, 1, 0])\n",
        "j"
      ],
      "execution_count": null,
      "outputs": [
        {
          "output_type": "execute_result",
          "data": {
            "text/plain": [
              "tensor([0, 1, 0])"
            ]
          },
          "metadata": {},
          "execution_count": 217
        }
      ]
    },
    {
      "cell_type": "code",
      "metadata": {
        "id": "RrlnZbw25w3H",
        "colab": {
          "base_uri": "https://localhost:8080/"
        },
        "outputId": "dd76c3f9-4039-4769-800c-52446b6e211c"
      },
      "source": [
        "out = a[i, j]\n",
        "\n",
        "print_arr(a, out)"
      ],
      "execution_count": null,
      "outputs": [
        {
          "output_type": "stream",
          "name": "stdout",
          "text": [
            "tensor([[1, 2],\n",
            "        [3, 4],\n",
            "        [5, 6]]) <shape: torch.Size([3, 2])> <dtype: torch.int64>\n",
            "\n",
            "tensor([3, 4, 3]) <shape: torch.Size([3])> <dtype: torch.int64>\n"
          ]
        }
      ]
    },
    {
      "cell_type": "markdown",
      "metadata": {
        "id": "gzr5hn34sjko"
      },
      "source": [
        "> **EXERCISE**\n",
        ">\n",
        "> Using a single assignment, change the elements of a tensor $X \\in \\mathbb{R}^{4 \\times 3}$ as follows:\n",
        ">\n",
        "> `X[0,2] = -1`\n",
        ">\n",
        "> `X[1,1] = 0`\n",
        ">\n",
        "> `X[2,0] = 1`\n",
        ">\n",
        "> `X[3,1] = 2`\n",
        "\n"
      ]
    },
    {
      "cell_type": "code",
      "metadata": {
        "id": "F_3bZ5xHwmGb",
        "colab": {
          "base_uri": "https://localhost:8080/"
        },
        "outputId": "13f2753b-0164-4459-ce65-f5ad42b274ea"
      },
      "source": [
        "# Mutate one element from each row of a matrix\n",
        "a = torch.arange(12).reshape(4, 3)\n",
        "a\n",
        "\n",
        "# a.shape = 4,3\n",
        "\n",
        "a[[0,1,2,3],[2,1,0,1]] = torch.tensor([-1, 0, 1, 2])\n",
        "a"
      ],
      "execution_count": null,
      "outputs": [
        {
          "output_type": "execute_result",
          "data": {
            "text/plain": [
              "tensor([[ 0,  1, -1],\n",
              "        [ 3,  0,  5],\n",
              "        [ 1,  7,  8],\n",
              "        [ 9,  2, 11]])"
            ]
          },
          "metadata": {},
          "execution_count": 223
        }
      ]
    },
    {
      "cell_type": "code",
      "source": [
        "# @title 👀 Solution\n",
        "\n",
        "\n",
        "a[[0, 1, 2, 3], [2, 1, 0, 1]] = torch.tensor([-1, 0, 1, 2])\n",
        "a"
      ],
      "metadata": {
        "cellView": "form",
        "id": "A62V7F_PI_Cn"
      },
      "execution_count": null,
      "outputs": []
    },
    {
      "cell_type": "markdown",
      "metadata": {
        "id": "544F9pAf-qRY"
      },
      "source": [
        "> ❌❌❌ **NOTE**\n",
        ">\n",
        "> **Slice indexing vs Array indexing**\n",
        ">\n",
        "> Be careful, since slice indexing and array indexing are different operations!"
      ]
    },
    {
      "cell_type": "code",
      "metadata": {
        "id": "b-GYMhxA-tOY"
      },
      "source": [
        "a = torch.arange(16).reshape(4, 4)\n",
        "a"
      ],
      "execution_count": null,
      "outputs": []
    },
    {
      "cell_type": "code",
      "metadata": {
        "id": "Piy-JUdv-x0_"
      },
      "source": [
        "a[0:3, 0:3]"
      ],
      "execution_count": null,
      "outputs": []
    },
    {
      "cell_type": "code",
      "metadata": {
        "id": "fXJJAq9G-0rX"
      },
      "source": [
        "a[[0, 1, 2], [0, 1, 2]]"
      ],
      "execution_count": null,
      "outputs": []
    },
    {
      "cell_type": "code",
      "metadata": {
        "id": "OKjSW5ePxzLW"
      },
      "source": [
        "a[torch.arange(0,3), torch.arange(0,3)]"
      ],
      "execution_count": null,
      "outputs": []
    },
    {
      "cell_type": "code",
      "metadata": {
        "id": "hkmiQgQT_k82"
      },
      "source": [
        "a[0:5:2, 0:5:2]"
      ],
      "execution_count": null,
      "outputs": []
    },
    {
      "cell_type": "code",
      "metadata": {
        "id": "MUf_I1xjx8f9"
      },
      "source": [
        "# With *slice indexing* you return a sub-tensor."
      ],
      "execution_count": null,
      "outputs": []
    },
    {
      "cell_type": "markdown",
      "metadata": {
        "id": "QVMo8E2W_wAw"
      },
      "source": [
        "#### **Boolean array indexing**\n",
        "\n",
        "This type of indexing is used to select the elements of a tensor that satisfy some condition (similar to MATLAB's logical indexing):"
      ]
    },
    {
      "cell_type": "code",
      "metadata": {
        "id": "OFIFupWJAnI9",
        "colab": {
          "base_uri": "https://localhost:8080/"
        },
        "outputId": "f13d39dd-6768-4bd9-81ad-688e0441ecb5"
      },
      "source": [
        "a = torch.arange(6).reshape(3, 2)\n",
        "a"
      ],
      "execution_count": null,
      "outputs": [
        {
          "output_type": "execute_result",
          "data": {
            "text/plain": [
              "tensor([[0, 1],\n",
              "        [2, 3],\n",
              "        [4, 5]])"
            ]
          },
          "metadata": {},
          "execution_count": 224
        }
      ]
    },
    {
      "cell_type": "code",
      "metadata": {
        "id": "jMaNbpVPAtMm",
        "colab": {
          "base_uri": "https://localhost:8080/"
        },
        "outputId": "917b78e4-2cc6-4fe2-c78c-e4f619191834"
      },
      "source": [
        "bool_idx = (a > 2)\n",
        "bool_idx"
      ],
      "execution_count": null,
      "outputs": [
        {
          "output_type": "execute_result",
          "data": {
            "text/plain": [
              "tensor([[False, False],\n",
              "        [False,  True],\n",
              "        [ True,  True]])"
            ]
          },
          "metadata": {},
          "execution_count": 225
        }
      ]
    },
    {
      "cell_type": "code",
      "metadata": {
        "id": "XbYWFo8TArod",
        "colab": {
          "base_uri": "https://localhost:8080/"
        },
        "outputId": "db6ce402-be47-4738-f5d0-c7b5b4886037"
      },
      "source": [
        "a[bool_idx]  # remember that NumPy and PyTorch unroll row-wise and not column-wise like Matlab"
      ],
      "execution_count": null,
      "outputs": [
        {
          "output_type": "execute_result",
          "data": {
            "text/plain": [
              "tensor([3, 4, 5])"
            ]
          },
          "metadata": {},
          "execution_count": 226
        }
      ]
    },
    {
      "cell_type": "markdown",
      "metadata": {
        "id": "kzVyXjJgBMKa"
      },
      "source": [
        "If you want to know more about indexing in PyTorch and Numpy read the [docs](https://numpy.org/doc/stable/user/basics.indexing.html#basics-indexing)"
      ]
    },
    {
      "cell_type": "markdown",
      "source": [
        "##### 📖📖 **Graph use case**\n",
        "\n",
        "Suppose you have a weighted adjacency matrix for a directed graph. We want to obtain a list of edges with weight greater than 0.5.\n",
        "\n",
        "How can we do that?\n",
        "\n",
        "\n",
        "\n"
      ],
      "metadata": {
        "id": "cZUsTLVGPXmc"
      }
    },
    {
      "cell_type": "code",
      "source": [
        "# Let's define a random adjacency\n",
        "a = torch.randint(2, (5, 5)).bool()\n",
        "adj_matrix = ((a + a.T) > 0.5) * torch.rand_like(a, dtype=torch.float)\n",
        "a"
      ],
      "metadata": {
        "id": "zReQ6XJdQHfY",
        "colab": {
          "base_uri": "https://localhost:8080/"
        },
        "outputId": "5376a201-4a1e-4970-b29a-268dcab6ac10"
      },
      "execution_count": null,
      "outputs": [
        {
          "output_type": "execute_result",
          "data": {
            "text/plain": [
              "tensor([[False,  True,  True, False,  True],\n",
              "        [False, False, False, False, False],\n",
              "        [ True, False, False, False,  True],\n",
              "        [False,  True, False,  True, False],\n",
              "        [False, False, False,  True, False]])"
            ]
          },
          "metadata": {},
          "execution_count": 233
        }
      ]
    },
    {
      "cell_type": "code",
      "source": [
        "# The list of edges\n",
        "(adj_matrix > 0.5).nonzero()"
      ],
      "metadata": {
        "id": "dmHUoUUBP7AU",
        "colab": {
          "base_uri": "https://localhost:8080/"
        },
        "outputId": "f6227554-4bdc-46c0-810a-74e5814e1a9e"
      },
      "execution_count": null,
      "outputs": [
        {
          "output_type": "execute_result",
          "data": {
            "text/plain": [
              "tensor([[0, 1],\n",
              "        [1, 1],\n",
              "        [1, 3],\n",
              "        [2, 4],\n",
              "        [3, 1],\n",
              "        [3, 3],\n",
              "        [4, 0],\n",
              "        [4, 2]])"
            ]
          },
          "metadata": {},
          "execution_count": 230
        }
      ]
    },
    {
      "cell_type": "code",
      "source": [
        "# The asssociated weights for each edge\n",
        "adj_matrix[adj_matrix > 0.5]"
      ],
      "metadata": {
        "id": "6zyU9SBOR-JQ",
        "colab": {
          "base_uri": "https://localhost:8080/"
        },
        "outputId": "4d6aaf3e-20fb-48ce-9027-164ceea2aea8"
      },
      "execution_count": null,
      "outputs": [
        {
          "output_type": "execute_result",
          "data": {
            "text/plain": [
              "tensor([0.9272, 0.8008, 0.9161, 0.9142, 0.5615, 0.6670, 0.9757, 0.6066])"
            ]
          },
          "metadata": {},
          "execution_count": 231
        }
      ]
    },
    {
      "cell_type": "markdown",
      "source": [
        "### Exercises"
      ],
      "metadata": {
        "id": "mSAHCIYePoB5"
      }
    },
    {
      "cell_type": "markdown",
      "metadata": {
        "id": "fbUID2DlLuhq"
      },
      "source": [
        "> **EXERCISE**\n",
        ">\n",
        "> Build a 3D tensor in $X \\in \\mathbb{R}^{3 \\times 3 \\times 3}$ that has ones along the 3D-diagonal and zeros elsewhere, i.e. a 3D identity."
      ]
    },
    {
      "cell_type": "code",
      "source": [
        "# Write here your solution\n",
        "import torch\n",
        "dim = 5\n",
        "\n",
        "a = torch.zeros((dim,dim,dim))\n",
        "\n",
        "base = dim**2 + (dim+1)\n",
        "\n",
        "b =  (torch.arange(dim**3) % base == 0 ).reshape(dim,dim,dim)\n",
        "\n",
        "x = b * torch.ones((dim, dim, dim))\n",
        "x\n",
        "\n",
        "a[torch.arange(dim), torch.arange(dim), torch.arange(dim)] = 1\n",
        "a\n",
        "#a[[0,1,2,3,4], [0,1,2,3,4], [0,1,2,3,4]] = 1 -> we are saying:\n",
        "#  for row, column and depth 0 put a 1, for r,c,d 1 put a 1 etc.."
      ],
      "metadata": {
        "id": "trx7jDTuLe2D",
        "colab": {
          "base_uri": "https://localhost:8080/"
        },
        "outputId": "4eb27b68-3606-4b50-9372-c09cc37474e0"
      },
      "execution_count": null,
      "outputs": [
        {
          "output_type": "execute_result",
          "data": {
            "text/plain": [
              "tensor([[[1., 0., 0., 0., 0.],\n",
              "         [0., 0., 0., 0., 0.],\n",
              "         [0., 0., 0., 0., 0.],\n",
              "         [0., 0., 0., 0., 0.],\n",
              "         [0., 0., 0., 0., 0.]],\n",
              "\n",
              "        [[0., 0., 0., 0., 0.],\n",
              "         [0., 1., 0., 0., 0.],\n",
              "         [0., 0., 0., 0., 0.],\n",
              "         [0., 0., 0., 0., 0.],\n",
              "         [0., 0., 0., 0., 0.]],\n",
              "\n",
              "        [[0., 0., 0., 0., 0.],\n",
              "         [0., 0., 0., 0., 0.],\n",
              "         [0., 0., 1., 0., 0.],\n",
              "         [0., 0., 0., 0., 0.],\n",
              "         [0., 0., 0., 0., 0.]],\n",
              "\n",
              "        [[0., 0., 0., 0., 0.],\n",
              "         [0., 0., 0., 0., 0.],\n",
              "         [0., 0., 0., 0., 0.],\n",
              "         [0., 0., 0., 1., 0.],\n",
              "         [0., 0., 0., 0., 0.]],\n",
              "\n",
              "        [[0., 0., 0., 0., 0.],\n",
              "         [0., 0., 0., 0., 0.],\n",
              "         [0., 0., 0., 0., 0.],\n",
              "         [0., 0., 0., 0., 0.],\n",
              "         [0., 0., 0., 0., 1.]]])"
            ]
          },
          "metadata": {},
          "execution_count": 4
        }
      ]
    },
    {
      "cell_type": "code",
      "source": [
        "# @title 👀 Solution\n",
        "\n",
        "\n",
        "X = torch.zeros(3, 3, 3)\n",
        "X[torch.arange(3), torch.arange(3), torch.arange(3)] = 1\n",
        "X"
      ],
      "metadata": {
        "id": "G2lUX3SbLS3W",
        "colab": {
          "base_uri": "https://localhost:8080/"
        },
        "outputId": "c429b3ab-2cb3-410c-8883-ed9b7a604e1a"
      },
      "execution_count": null,
      "outputs": [
        {
          "output_type": "execute_result",
          "data": {
            "text/plain": [
              "tensor([[[1., 0., 0.],\n",
              "         [0., 0., 0.],\n",
              "         [0., 0., 0.]],\n",
              "\n",
              "        [[0., 0., 0.],\n",
              "         [0., 1., 0.],\n",
              "         [0., 0., 0.]],\n",
              "\n",
              "        [[0., 0., 0.],\n",
              "         [0., 0., 0.],\n",
              "         [0., 0., 1.]]])"
            ]
          },
          "metadata": {},
          "execution_count": 274
        }
      ]
    },
    {
      "cell_type": "markdown",
      "metadata": {
        "id": "5uLHb9jWM0jM"
      },
      "source": [
        "> **EXERCISE**\n",
        ">\n",
        "> You are given a 3D tensor $X \\in \\mathbb{R}^{w \\times h \\times 3}$ representing a $w \\times h$ image with `(r, g, b)` color channels. Assume that colors take values in $[0, 1]$.\n",
        ">\n",
        "> Color the image $X$ completely by red, i.e. `(1, 0, 0)` in the `(r, g, b)` format."
      ]
    },
    {
      "cell_type": "code",
      "metadata": {
        "id": "g_HG8I5zNnpJ",
        "colab": {
          "base_uri": "https://localhost:8080/",
          "height": 435
        },
        "outputId": "418db34b-222d-45cf-8529-78392de8b3bf"
      },
      "source": [
        "# Create and visualize a black image\n",
        "w = 4\n",
        "h = 4\n",
        "x = torch.zeros(w, h, 3)\n",
        "\n",
        "b = (torch.arange(w*h*3) % 3 == 0).reshape(4,4,3) * 255\n",
        "\n",
        "x[:, :, 0] = 1\n",
        "\n",
        "\n",
        "%matplotlib inline\n",
        "import matplotlib.pyplot as plt\n",
        "img = plt.imshow(x)\n"
      ],
      "execution_count": null,
      "outputs": [
        {
          "output_type": "display_data",
          "data": {
            "text/plain": [
              "<Figure size 640x480 with 1 Axes>"
            ],
            "image/png": "[encoded data removed]"
          },
          "metadata": {}
        }
      ]
    },
    {
      "cell_type": "code",
      "metadata": {
        "id": "gqqm2zZUybB7"
      },
      "source": [
        "# Write here your solution"
      ],
      "execution_count": null,
      "outputs": []
    },
    {
      "cell_type": "code",
      "source": [
        "# @title 👀 Solution\n",
        "\n",
        "\n",
        "x[:, :, 0] = 1\n",
        "img = plt.imshow(x)"
      ],
      "metadata": {
        "cellView": "form",
        "id": "Iu4XPwmkNEtg"
      },
      "execution_count": null,
      "outputs": []
    },
    {
      "cell_type": "markdown",
      "metadata": {
        "id": "ps_j8BUcQmWu"
      },
      "source": [
        "> **EXERCISE**\n",
        ">\n",
        "> You are given the GitHub logo $X \\in \\mathbb{R}^{560 \\times 560}$.  Assume the logo is in gray scale, with the color $c \\in [0, 1]$ (remember 0 $\\to$ black).\n",
        ">\n",
        "> 1. Change the black-ish color into light gray: $0.8$.\n",
        "> 2. Then draw a diagonal and anti-diagonal black line (i.e. an X) on the new image, to mark that the new logo is wrong."
      ]
    },
    {
      "cell_type": "code",
      "metadata": {
        "id": "X0082ZNOP-EK",
        "colab": {
          "base_uri": "https://localhost:8080/",
          "height": 435
        },
        "outputId": "376176b3-282c-4815-e502-96468d99b58d"
      },
      "source": [
        "from skimage import io\n",
        "\n",
        "image = io.imread('https://github.githubassets.com/images/modules/logos_page/GitHub-Mark.png', as_gray=True)\n",
        "_ = plt.imshow(image, cmap='gray', vmin=0, vmax=1)"
      ],
      "execution_count": null,
      "outputs": [
        {
          "output_type": "display_data",
          "data": {
            "text/plain": [
              "<Figure size 640x480 with 1 Axes>"
            ],
            "image/png": "[encoded data removed]"
          },
          "metadata": {}
        }
      ]
    },
    {
      "cell_type": "code",
      "metadata": {
        "id": "thBZCe_3QyxM",
        "colab": {
          "base_uri": "https://localhost:8080/",
          "height": 435
        },
        "outputId": "3f5211d0-f512-4781-e986-5b29d85d98b6"
      },
      "source": [
        "# Change the black into light-gray\n",
        "X = torch.from_numpy(image.copy())  # PyTorch CPU and Numpy share the memory!\n",
        "# # ?\n",
        "X = (X[:, :] == 1) * 1 + 0.8\n",
        "\n",
        "_ = plt.imshow(X, cmap='gray', vmin=0, vmax=1)"
      ],
      "execution_count": null,
      "outputs": [
        {
          "output_type": "display_data",
          "data": {
            "text/plain": [
              "<Figure size 640x480 with 1 Axes>"
            ],
            "image/png": "[encoded data removed]"
          },
          "metadata": {}
        }
      ]
    },
    {
      "cell_type": "code",
      "metadata": {
        "id": "DvjjGYmkX8m7",
        "colab": {
          "base_uri": "https://localhost:8080/",
          "height": 435
        },
        "outputId": "b0075c33-d833-4bc2-89c1-6ae50d3d8bad"
      },
      "source": [
        "# # Mark the new image as wrong with a big black X\n",
        "# #\n",
        "\n",
        "X = X * (torch.ones(X.shape) - torch.eye(X.shape[0]) )\n",
        "X = X * (torch.ones(X.shape) - torch.fliplr(torch.eye(X.shape[0])))\n",
        "\n",
        "_ = plt.imshow(X, cmap='gray', vmin=0, vmax=1)"
      ],
      "execution_count": null,
      "outputs": [
        {
          "output_type": "display_data",
          "data": {
            "text/plain": [
              "<Figure size 640x480 with 1 Axes>"
            ],
            "image/png": "[encoded data removed]"
          },
          "metadata": {}
        }
      ]
    },
    {
      "cell_type": "code",
      "source": [
        "# @title 👀 Solution\n",
        "\n",
        "\n",
        "X[X < 1] = 0.8\n",
        "X[torch.arange(X.shape[0]), torch.arange(X.shape[1])] = 0\n",
        "X[torch.arange(X.shape[0] - 1, -1, -1), torch.arange(X.shape[1])] = 0\n",
        "\n",
        "_ = plt.imshow(X, cmap='gray', vmin=0, vmax=1)"
      ],
      "metadata": {
        "id": "IRYlOz1CO6qZ"
      },
      "execution_count": null,
      "outputs": []
    }
  ]
}